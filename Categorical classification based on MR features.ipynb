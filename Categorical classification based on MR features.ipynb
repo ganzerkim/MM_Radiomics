{
 "cells": [
  {
   "cell_type": "code",
   "execution_count": 1,
   "metadata": {},
   "outputs": [],
   "source": [
    "import numpy as np\n",
    "import pandas as pd\n",
    "import matplotlib.pyplot as plt\n",
    "import seaborn as sns\n",
    "\n",
    "from sklearn.model_selection import train_test_split\n",
    "from sklearn.model_selection import KFold, cross_val_score, cross_val_predict\n",
    "from sklearn import metrics\n",
    "\n",
    "from sklearn import svm\n",
    "from sklearn.linear_model import LogisticRegression\n",
    "from sklearn.ensemble import RandomForestClassifier\n",
    "from sklearn.neighbors import KNeighborsClassifier\n",
    "from sklearn.tree import DecisionTreeClassifier\n"
   ]
  },
  {
   "cell_type": "code",
   "execution_count": 2,
   "metadata": {},
   "outputs": [
    {
     "name": "stderr",
     "output_type": "stream",
     "text": [
      "C:\\Users\\User\\anaconda3\\envs\\ganzer\\lib\\site-packages\\seaborn\\_decorators.py:43: FutureWarning: Pass the following variable as a keyword arg: x. From version 0.12, the only valid positional argument will be `data`, and passing other arguments without an explicit keyword will result in an error or misinterpretation.\n",
      "  FutureWarning\n"
     ]
    },
    {
     "data": {
      "text/plain": [
       "<AxesSubplot:xlabel='Customlabel', ylabel='count'>"
      ]
     },
     "execution_count": 2,
     "metadata": {},
     "output_type": "execute_result"
    },
    {
     "data": {
      "image/png": "[encoded data removed]",
      "text/plain": [
       "<Figure size 432x288 with 1 Axes>"
      ]
     },
     "metadata": {
      "needs_background": "light"
     },
     "output_type": "display_data"
    }
   ],
   "source": [
    "data = pd.read_csv('C:\\\\Users\\\\User\\\\Desktop\\\\kmeans\\\\test.csv')\n",
    "data.head()\n",
    "#############################################\n",
    "radiofeature = data.loc[:, 'ADC(10-3mm2/s)':'Kpa']\n",
    "label = data['Customlabel']\n",
    "radiofeature.insert(0, \"Customlabel\", label, True)\n",
    "radiofeature['Customlabel'] = radiofeature['Customlabel'].map({'Normal': 0, 'Fat': 1, 'Fibrosis': 2})\n",
    "radiofeature.head()\n",
    "\n",
    "#################################################\n",
    "sns.countplot(data['Customlabel'])"
   ]
  },
  {
   "cell_type": "code",
   "execution_count": 3,
   "metadata": {},
   "outputs": [
    {
     "name": "stdout",
     "output_type": "stream",
     "text": [
      "56 14\n"
     ]
    }
   ],
   "source": [
    "train, test = train_test_split(radiofeature, test_size=0.2, random_state=2019)\n",
    "\n",
    "x_train = train.drop(['Customlabel'], axis=1)\n",
    "y_train = train.Customlabel\n",
    "\n",
    "x_test = test.drop(['Customlabel'], axis=1)\n",
    "y_test = test.Customlabel\n",
    "\n",
    "print(len(train), len(test))"
   ]
  },
  {
   "cell_type": "markdown",
   "metadata": {},
   "source": [
    "## Accuracy comparison according to the ML Models"
   ]
  },
  {
   "cell_type": "code",
   "execution_count": 4,
   "metadata": {},
   "outputs": [
    {
     "name": "stdout",
     "output_type": "stream",
     "text": [
      "SVM: 71.43\n",
      "DecisionTreeClassifier: 100.00\n",
      "KNeighborsClassifier: 71.43\n",
      "LogisticRegression: 92.86\n",
      "RandomForestClassifier: 100.00\n"
     ]
    }
   ],
   "source": [
    "#%%\n",
    "#SVM\n",
    "model = svm.SVC(gamma='scale')\n",
    "model.fit(x_train, y_train)\n",
    "\n",
    "y_pred = model.predict(x_test)\n",
    "\n",
    "print('SVM: %.2f' % (metrics.accuracy_score(y_pred, y_test) * 100))\n",
    "\n",
    "#%%\n",
    "#DecisionTree\n",
    "model = DecisionTreeClassifier()\n",
    "model.fit(x_train, y_train)\n",
    "\n",
    "y_pred = model.predict(x_test)\n",
    "\n",
    "print('DecisionTreeClassifier: %.2f' % (metrics.accuracy_score(y_pred, y_test) * 100))\n",
    "\n",
    "#%%\n",
    "#KNeighbors\n",
    "model = KNeighborsClassifier()\n",
    "model.fit(x_train, y_train)\n",
    "\n",
    "y_pred = model.predict(x_test)\n",
    "\n",
    "print('KNeighborsClassifier: %.2f' % (metrics.accuracy_score(y_pred, y_test) * 100))\n",
    "\n",
    "#%%\n",
    "#LogisticRegression\n",
    "model = LogisticRegression(solver='lbfgs', max_iter=2000)\n",
    "model.fit(x_train, y_train)\n",
    "\n",
    "y_pred = model.predict(x_test)\n",
    "\n",
    "print('LogisticRegression: %.2f' % (metrics.accuracy_score(y_pred, y_test) * 100))\n",
    "\n",
    "#%%\n",
    "#RandomForestClassifier\n",
    "model = RandomForestClassifier(n_estimators=100)\n",
    "model.fit(x_train, y_train)\n",
    "\n",
    "y_pred = model.predict(x_test)\n",
    "\n",
    "print('RandomForestClassifier: %.2f' % (metrics.accuracy_score(y_pred, y_test) * 100))\n"
   ]
  },
  {
   "cell_type": "markdown",
   "metadata": {},
   "source": [
    "## Feature selection"
   ]
  },
  {
   "cell_type": "code",
   "execution_count": 5,
   "metadata": {},
   "outputs": [
    {
     "name": "stdout",
     "output_type": "stream",
     "text": [
      "FF(%)              0.291608\n",
      "Kpa                0.256341\n",
      "ADC(10-3mm2/s)     0.102001\n",
      "Kapp               0.098748\n",
      "D(10^-3)           0.094286\n",
      "Dapp(10-3mm2/s)    0.072549\n",
      "D*(10-3mm2/s)      0.043023\n",
      "f(%)               0.041444\n",
      "dtype: float64\n"
     ]
    }
   ],
   "source": [
    "features = pd.Series(model.feature_importances_, index=x_train.columns).sort_values(ascending=False)\n",
    "\n",
    "print(features)"
   ]
  },
  {
   "cell_type": "code",
   "execution_count": 6,
   "metadata": {},
   "outputs": [
    {
     "name": "stdout",
     "output_type": "stream",
     "text": [
      "Index(['FF(%)', 'Kpa', 'ADC(10-3mm2/s)', 'Kapp', 'D(10^-3)'], dtype='object')\n"
     ]
    }
   ],
   "source": [
    "# Extract Top 5 Features\n",
    "top_5_features = features.keys()[:5]\n",
    "print(top_5_features)\n"
   ]
  },
  {
   "cell_type": "markdown",
   "metadata": {},
   "source": [
    "## Accuracy comparison according to the ML Models with Top 5 features"
   ]
  },
  {
   "cell_type": "code",
   "execution_count": 7,
   "metadata": {},
   "outputs": [
    {
     "name": "stdout",
     "output_type": "stream",
     "text": [
      "SVM: 100.00\n",
      "DecisionTreeClassifier: 100.00\n",
      "KNeighborsClassifier: 92.86\n",
      "LogisticRegression: 92.86\n",
      "RandomForestClassifier: 100.00\n"
     ]
    }
   ],
   "source": [
    "models = {\n",
    "    'SVM': svm.SVC(gamma='scale'),\n",
    "    'DecisionTreeClassifier': DecisionTreeClassifier(),\n",
    "    'KNeighborsClassifier': KNeighborsClassifier(),\n",
    "    'LogisticRegression': LogisticRegression(solver='lbfgs', max_iter=2000),\n",
    "    'RandomForestClassifier': RandomForestClassifier(n_estimators=1000)\n",
    "    }\n",
    "\n",
    "\n",
    "for name, model in models.items():\n",
    "    model.fit(x_train[top_5_features], y_train)\n",
    "    y_pred = model.predict(x_test[top_5_features])\n",
    "    print('%s: %.2f' % (name, (metrics.accuracy_score(y_pred, y_test) * 100)))\n"
   ]
  },
  {
   "cell_type": "code",
   "execution_count": 8,
   "metadata": {},
   "outputs": [
    {
     "name": "stdout",
     "output_type": "stream",
     "text": [
      "RandomForestClassifier: 100.00\n"
     ]
    }
   ],
   "source": [
    "model = RandomForestClassifier(n_estimators=100)\n",
    "model.fit(x_train[top_5_features], y_train)\n",
    "y_pred = model.predict(x_test[top_5_features])\n",
    "\n",
    "print('RandomForestClassifier: %.2f' % (metrics.accuracy_score(y_pred, y_test) * 100))\n"
   ]
  },
  {
   "cell_type": "code",
   "execution_count": 9,
   "metadata": {},
   "outputs": [
    {
     "name": "stdout",
     "output_type": "stream",
     "text": [
      "41    1\n",
      "51    2\n",
      "30    1\n",
      "4     0\n",
      "52    2\n",
      "49    1\n",
      "14    0\n",
      "13    0\n",
      "55    2\n",
      "9     0\n",
      "0     0\n",
      "60    2\n",
      "2     0\n",
      "47    1\n",
      "Name: Customlabel, dtype: int64\n",
      "[1 2 1 0 2 1 0 0 2 0 0 2 0 1]\n"
     ]
    },
    {
     "data": {
      "text/plain": [
       "(None, None)"
      ]
     },
     "execution_count": 9,
     "metadata": {},
     "output_type": "execute_result"
    }
   ],
   "source": [
    "print(y_test), print(y_pred)"
   ]
  },
  {
   "cell_type": "code",
   "execution_count": 10,
   "metadata": {},
   "outputs": [],
   "source": [
    "clf = ['Normal', 'Fat', 'Fibrosis']"
   ]
  },
  {
   "cell_type": "code",
   "execution_count": 11,
   "metadata": {},
   "outputs": [],
   "source": [
    "inp = np.array(y_test)\n",
    "oup = np.array(y_pred)"
   ]
  },
  {
   "cell_type": "markdown",
   "metadata": {},
   "source": [
    "## Classification Test"
   ]
  },
  {
   "cell_type": "code",
   "execution_count": 12,
   "metadata": {},
   "outputs": [
    {
     "name": "stdout",
     "output_type": "stream",
     "text": [
      "input : Fat  ----------->  output : Fat\n",
      "input : Fibrosis  ----------->  output : Fibrosis\n",
      "input : Fat  ----------->  output : Fat\n",
      "input : Normal  ----------->  output : Normal\n",
      "input : Fibrosis  ----------->  output : Fibrosis\n",
      "input : Fat  ----------->  output : Fat\n",
      "input : Normal  ----------->  output : Normal\n",
      "input : Normal  ----------->  output : Normal\n",
      "input : Fibrosis  ----------->  output : Fibrosis\n",
      "input : Normal  ----------->  output : Normal\n",
      "input : Normal  ----------->  output : Normal\n",
      "input : Fibrosis  ----------->  output : Fibrosis\n",
      "input : Normal  ----------->  output : Normal\n",
      "input : Fat  ----------->  output : Fat\n"
     ]
    }
   ],
   "source": [
    "for i in range(len(inp)):\n",
    "    print('input : ' + clf[inp[i]] + '  ----------->  output : ' + clf[oup[i]])"
   ]
  },
  {
   "cell_type": "code",
   "execution_count": 18,
   "metadata": {},
   "outputs": [],
   "source": [
    "import pickle\n",
    "\n",
    "pkl_filename = \"C:/Users/User/Desktop/MM_Radiomics/Trained model weight.pkl\"\n",
    "with open(pkl_filename, 'wb') as file:\n",
    "    pickle.dump(model, file)"
   ]
  },
  {
   "cell_type": "code",
   "execution_count": 19,
   "metadata": {},
   "outputs": [],
   "source": [
    "with open(pkl_filename, 'rb') as file:\n",
    "    pickle_model = pickle.load(file)"
   ]
  },
  {
   "cell_type": "code",
   "execution_count": 24,
   "metadata": {},
   "outputs": [
    {
     "name": "stdout",
     "output_type": "stream",
     "text": [
      "RandomForestClassifier: 100.00\n",
      "input : Fat  ----------->  output : Fat\n",
      "input : Fibrosis  ----------->  output : Fibrosis\n",
      "input : Fat  ----------->  output : Fat\n",
      "input : Normal  ----------->  output : Normal\n",
      "input : Fibrosis  ----------->  output : Fibrosis\n",
      "input : Fat  ----------->  output : Fat\n",
      "input : Normal  ----------->  output : Normal\n",
      "input : Normal  ----------->  output : Normal\n",
      "input : Fibrosis  ----------->  output : Fibrosis\n",
      "input : Normal  ----------->  output : Normal\n",
      "input : Normal  ----------->  output : Normal\n",
      "input : Fibrosis  ----------->  output : Fibrosis\n",
      "input : Normal  ----------->  output : Normal\n",
      "input : Fat  ----------->  output : Fat\n"
     ]
    }
   ],
   "source": [
    "y_pred = pickle_model.predict(x_test[top_5_features])\n",
    "\n",
    "print('%s: %.2f' % (name, (metrics.accuracy_score(y_pred, y_test) * 100)))\n",
    "\n",
    "clf = ['Normal', 'Fat', 'Fibrosis']\n",
    "inp = np.array(y_test)\n",
    "oup = np.array(y_pred)\n",
    "\n",
    "for i in range(len(inp)):\n",
    "    print('input : ' + clf[inp[i]] + '  ----------->  output : ' + clf[oup[i]])"
   ]
  },
  {
   "cell_type": "code",
   "execution_count": null,
   "metadata": {},
   "outputs": [],
   "source": []
  }
 ],
 "metadata": {
  "kernelspec": {
   "display_name": "Python 3",
   "language": "python",
   "name": "python3"
  },
  "language_info": {
   "codemirror_mode": {
    "name": "ipython",
    "version": 3
   },
   "file_extension": ".py",
   "mimetype": "text/x-python",
   "name": "python",
   "nbconvert_exporter": "python",
   "pygments_lexer": "ipython3",
   "version": "3.7.9"
  }
 },
 "nbformat": 4,
 "nbformat_minor": 4
}
