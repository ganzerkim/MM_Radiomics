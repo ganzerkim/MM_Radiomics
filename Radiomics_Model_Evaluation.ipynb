{
 "cells": [
  {
   "cell_type": "code",
   "execution_count": 173,
   "metadata": {},
   "outputs": [],
   "source": [
    "import numpy as np\n",
    "import pandas as pd\n",
    "import matplotlib.pyplot as plt\n",
    "import seaborn as sns\n",
    "\n",
    "from sklearn.model_selection import train_test_split\n",
    "from sklearn.model_selection import KFold, cross_val_score, cross_val_predict\n",
    "from sklearn import metrics\n",
    "\n",
    "from sklearn import svm\n",
    "from sklearn.linear_model import LogisticRegression\n",
    "from sklearn.ensemble import RandomForestClassifier\n",
    "from sklearn.neighbors import KNeighborsClassifier\n",
    "from sklearn.tree import DecisionTreeClassifier"
   ]
  },
  {
   "cell_type": "markdown",
   "metadata": {},
   "source": [
    "## Radiomic features are extracted by MM Radiomics WIP (Siemens Healthineers Inc.)\n",
    "## We can't share the sample csv file due to the data privacy."
   ]
  },
  {
   "cell_type": "code",
   "execution_count": 174,
   "metadata": {},
   "outputs": [
    {
     "name": "stderr",
     "output_type": "stream",
     "text": [
      "C:\\Users\\User\\anaconda3\\envs\\ganzer\\lib\\site-packages\\IPython\\core\\interactiveshell.py:3147: DtypeWarning: Columns (28,29,34,35,44,67,68,1321) have mixed types.Specify dtype option on import or set low_memory=False.\n",
      "  interactivity=interactivity, compiler=compiler, result=result)\n"
     ]
    },
    {
     "data": {
      "text/html": [
       "<div>\n",
       "<style scoped>\n",
       "    .dataframe tbody tr th:only-of-type {\n",
       "        vertical-align: middle;\n",
       "    }\n",
       "\n",
       "    .dataframe tbody tr th {\n",
       "        vertical-align: top;\n",
       "    }\n",
       "\n",
       "    .dataframe thead th {\n",
       "        text-align: right;\n",
       "    }\n",
       "</style>\n",
       "<table border=\"1\" class=\"dataframe\">\n",
       "  <thead>\n",
       "    <tr style=\"text-align: right;\">\n",
       "      <th></th>\n",
       "      <th>Id</th>\n",
       "      <th>CustomLabel</th>\n",
       "      <th>ObjectName</th>\n",
       "      <th>ObjectDescription</th>\n",
       "      <th>ObjectVolume</th>\n",
       "      <th>BoundingBoxCenterWorld</th>\n",
       "      <th>CenterOfGravityWorld</th>\n",
       "      <th>MaxDiameterXY</th>\n",
       "      <th>MaxDiameterXZ</th>\n",
       "      <th>MaxDiameterYZ</th>\n",
       "      <th>...</th>\n",
       "      <th>texture</th>\n",
       "      <th>malignancy</th>\n",
       "      <th>radiologistIdx</th>\n",
       "      <th>lesionIdx</th>\n",
       "      <th>malignancyStd</th>\n",
       "      <th>malignancyG1</th>\n",
       "      <th>malignancyG2</th>\n",
       "      <th>malignancyG3</th>\n",
       "      <th>malignancyG4</th>\n",
       "      <th>malignant</th>\n",
       "    </tr>\n",
       "  </thead>\n",
       "  <tbody>\n",
       "    <tr>\n",
       "      <th>0</th>\n",
       "      <td>0</td>\n",
       "      <td>benign</td>\n",
       "      <td>OBJ1</td>\n",
       "      <td>1012_0_0</td>\n",
       "      <td>0.100268</td>\n",
       "      <td>(-88.114874, -94.594963, -170.454987)</td>\n",
       "      <td>(-88.25789966666667, -94.98640166666667, -169....</td>\n",
       "      <td>8.079539</td>\n",
       "      <td>6.117420</td>\n",
       "      <td>7.949216</td>\n",
       "      <td>...</td>\n",
       "      <td>1</td>\n",
       "      <td>2.00</td>\n",
       "      <td>0</td>\n",
       "      <td>0</td>\n",
       "      <td>0.000000</td>\n",
       "      <td>1</td>\n",
       "      <td>0</td>\n",
       "      <td>0</td>\n",
       "      <td>0</td>\n",
       "      <td>0</td>\n",
       "    </tr>\n",
       "    <tr>\n",
       "      <th>1</th>\n",
       "      <td>1</td>\n",
       "      <td>benign</td>\n",
       "      <td>OBJ2</td>\n",
       "      <td>1012_1_0</td>\n",
       "      <td>0.090868</td>\n",
       "      <td>(-88.114874, -94.23363499999999, -169.454987)</td>\n",
       "      <td>(-88.34745294252873, -94.32500529885057, -168....</td>\n",
       "      <td>5.826239</td>\n",
       "      <td>4.935150</td>\n",
       "      <td>7.498211</td>\n",
       "      <td>...</td>\n",
       "      <td>3</td>\n",
       "      <td>2.00</td>\n",
       "      <td>1</td>\n",
       "      <td>1</td>\n",
       "      <td>0.000000</td>\n",
       "      <td>1</td>\n",
       "      <td>0</td>\n",
       "      <td>0</td>\n",
       "      <td>0</td>\n",
       "      <td>0</td>\n",
       "    </tr>\n",
       "    <tr>\n",
       "      <th>2</th>\n",
       "      <td>4</td>\n",
       "      <td>malignant</td>\n",
       "      <td>OBJ1</td>\n",
       "      <td>0965_0_0</td>\n",
       "      <td>1.411258</td>\n",
       "      <td>(-55.94125, 74.31671525, 1790.0)</td>\n",
       "      <td>(-56.473701453942226, 74.15419878337237, 1790....</td>\n",
       "      <td>17.703934</td>\n",
       "      <td>18.846577</td>\n",
       "      <td>16.450157</td>\n",
       "      <td>...</td>\n",
       "      <td>3</td>\n",
       "      <td>4.00</td>\n",
       "      <td>0</td>\n",
       "      <td>2</td>\n",
       "      <td>0.707107</td>\n",
       "      <td>1</td>\n",
       "      <td>1</td>\n",
       "      <td>1</td>\n",
       "      <td>0</td>\n",
       "      <td>1</td>\n",
       "    </tr>\n",
       "    <tr>\n",
       "      <th>3</th>\n",
       "      <td>8</td>\n",
       "      <td>benign</td>\n",
       "      <td>OBJ1</td>\n",
       "      <td>0963_0_0</td>\n",
       "      <td>0.040096</td>\n",
       "      <td>(-43.804642, -50.197233499999996, -147.105011)</td>\n",
       "      <td>(-43.71814642857143, -50.157445537142856, -146...</td>\n",
       "      <td>5.711983</td>\n",
       "      <td>5.193993</td>\n",
       "      <td>4.819473</td>\n",
       "      <td>...</td>\n",
       "      <td>5</td>\n",
       "      <td>2.25</td>\n",
       "      <td>0</td>\n",
       "      <td>3</td>\n",
       "      <td>0.433013</td>\n",
       "      <td>1</td>\n",
       "      <td>1</td>\n",
       "      <td>0</td>\n",
       "      <td>0</td>\n",
       "      <td>0</td>\n",
       "    </tr>\n",
       "    <tr>\n",
       "      <th>4</th>\n",
       "      <td>12</td>\n",
       "      <td>malignant</td>\n",
       "      <td>OBJ1</td>\n",
       "      <td>0905_0_0</td>\n",
       "      <td>0.591042</td>\n",
       "      <td>(-29.518752999999997, 49.040627, -86.234985)</td>\n",
       "      <td>(-29.352718844402276, 48.674314144212524, -85....</td>\n",
       "      <td>13.306043</td>\n",
       "      <td>14.272948</td>\n",
       "      <td>14.604361</td>\n",
       "      <td>...</td>\n",
       "      <td>5</td>\n",
       "      <td>4.00</td>\n",
       "      <td>0</td>\n",
       "      <td>4</td>\n",
       "      <td>0.707107</td>\n",
       "      <td>1</td>\n",
       "      <td>1</td>\n",
       "      <td>1</td>\n",
       "      <td>0</td>\n",
       "      <td>1</td>\n",
       "    </tr>\n",
       "  </tbody>\n",
       "</table>\n",
       "<p>5 rows × 1341 columns</p>\n",
       "</div>"
      ],
      "text/plain": [
       "   Id CustomLabel ObjectName ObjectDescription  ObjectVolume  \\\n",
       "0   0      benign       OBJ1          1012_0_0      0.100268   \n",
       "1   1      benign       OBJ2          1012_1_0      0.090868   \n",
       "2   4   malignant       OBJ1          0965_0_0      1.411258   \n",
       "3   8      benign       OBJ1          0963_0_0      0.040096   \n",
       "4  12   malignant       OBJ1          0905_0_0      0.591042   \n",
       "\n",
       "                           BoundingBoxCenterWorld  \\\n",
       "0           (-88.114874, -94.594963, -170.454987)   \n",
       "1   (-88.114874, -94.23363499999999, -169.454987)   \n",
       "2                (-55.94125, 74.31671525, 1790.0)   \n",
       "3  (-43.804642, -50.197233499999996, -147.105011)   \n",
       "4    (-29.518752999999997, 49.040627, -86.234985)   \n",
       "\n",
       "                                CenterOfGravityWorld  MaxDiameterXY  \\\n",
       "0  (-88.25789966666667, -94.98640166666667, -169....       8.079539   \n",
       "1  (-88.34745294252873, -94.32500529885057, -168....       5.826239   \n",
       "2  (-56.473701453942226, 74.15419878337237, 1790....      17.703934   \n",
       "3  (-43.71814642857143, -50.157445537142856, -146...       5.711983   \n",
       "4  (-29.352718844402276, 48.674314144212524, -85....      13.306043   \n",
       "\n",
       "   MaxDiameterXZ  MaxDiameterYZ  ...  texture malignancy  radiologistIdx  \\\n",
       "0       6.117420       7.949216  ...        1       2.00               0   \n",
       "1       4.935150       7.498211  ...        3       2.00               1   \n",
       "2      18.846577      16.450157  ...        3       4.00               0   \n",
       "3       5.193993       4.819473  ...        5       2.25               0   \n",
       "4      14.272948      14.604361  ...        5       4.00               0   \n",
       "\n",
       "  lesionIdx  malignancyStd  malignancyG1  malignancyG2 malignancyG3  \\\n",
       "0         0       0.000000             1             0            0   \n",
       "1         1       0.000000             1             0            0   \n",
       "2         2       0.707107             1             1            1   \n",
       "3         3       0.433013             1             1            0   \n",
       "4         4       0.707107             1             1            1   \n",
       "\n",
       "  malignancyG4 malignant  \n",
       "0            0         0  \n",
       "1            0         0  \n",
       "2            0         1  \n",
       "3            0         0  \n",
       "4            0         1  \n",
       "\n",
       "[5 rows x 1341 columns]"
      ]
     },
     "execution_count": 174,
     "metadata": {},
     "output_type": "execute_result"
    }
   ],
   "source": [
    "data = pd.read_csv('RadiomicFeature.csv')\n",
    "data.head()"
   ]
  },
  {
   "cell_type": "code",
   "execution_count": 175,
   "metadata": {},
   "outputs": [
    {
     "data": {
      "text/html": [
       "<div>\n",
       "<style scoped>\n",
       "    .dataframe tbody tr th:only-of-type {\n",
       "        vertical-align: middle;\n",
       "    }\n",
       "\n",
       "    .dataframe tbody tr th {\n",
       "        vertical-align: top;\n",
       "    }\n",
       "\n",
       "    .dataframe thead th {\n",
       "        text-align: right;\n",
       "    }\n",
       "</style>\n",
       "<table border=\"1\" class=\"dataframe\">\n",
       "  <thead>\n",
       "    <tr style=\"text-align: right;\">\n",
       "      <th></th>\n",
       "      <th>CustomLabel</th>\n",
       "      <th>general_info_VoxelNum</th>\n",
       "      <th>original_firstorder_10Percentile</th>\n",
       "      <th>original_firstorder_90Percentile</th>\n",
       "      <th>original_firstorder_Energy</th>\n",
       "      <th>original_firstorder_Entropy</th>\n",
       "      <th>original_firstorder_InterquartileRange</th>\n",
       "      <th>original_firstorder_Kurtosis</th>\n",
       "      <th>original_firstorder_Maximum</th>\n",
       "      <th>original_firstorder_Mean</th>\n",
       "      <th>...</th>\n",
       "      <th>wavelet-LLL_glszm_SmallAreaHighGrayLevelEmphasis</th>\n",
       "      <th>wavelet-LLL_glszm_SmallAreaLowGrayLevelEmphasis</th>\n",
       "      <th>wavelet-LLL_glszm_ZoneEntropy</th>\n",
       "      <th>wavelet-LLL_glszm_ZonePercentage</th>\n",
       "      <th>wavelet-LLL_glszm_ZoneVariance</th>\n",
       "      <th>wavelet-LLL_ngtdm_Busyness</th>\n",
       "      <th>wavelet-LLL_ngtdm_Coarseness</th>\n",
       "      <th>wavelet-LLL_ngtdm_Complexity</th>\n",
       "      <th>wavelet-LLL_ngtdm_Contrast</th>\n",
       "      <th>wavelet-LLL_ngtdm_Strength</th>\n",
       "    </tr>\n",
       "  </thead>\n",
       "  <tbody>\n",
       "    <tr>\n",
       "      <th>0</th>\n",
       "      <td>0</td>\n",
       "      <td>110</td>\n",
       "      <td>-665.0</td>\n",
       "      <td>32767.0</td>\n",
       "      <td>4.189658e+10</td>\n",
       "      <td>3.499318</td>\n",
       "      <td>33405.00</td>\n",
       "      <td>1.369834</td>\n",
       "      <td>32767</td>\n",
       "      <td>11259.036360</td>\n",
       "      <td>...</td>\n",
       "      <td>3.047325e+06</td>\n",
       "      <td>0.009643</td>\n",
       "      <td>6.685392</td>\n",
       "      <td>0.972727</td>\n",
       "      <td>0.027251</td>\n",
       "      <td>0.004608</td>\n",
       "      <td>0.001740</td>\n",
       "      <td>552404.988500</td>\n",
       "      <td>834.579000</td>\n",
       "      <td>7096.481974</td>\n",
       "    </tr>\n",
       "    <tr>\n",
       "      <th>1</th>\n",
       "      <td>0</td>\n",
       "      <td>96</td>\n",
       "      <td>-609.0</td>\n",
       "      <td>-176.5</td>\n",
       "      <td>1.536506e+07</td>\n",
       "      <td>4.122812</td>\n",
       "      <td>174.75</td>\n",
       "      <td>2.430640</td>\n",
       "      <td>-141</td>\n",
       "      <td>-373.468750</td>\n",
       "      <td>...</td>\n",
       "      <td>1.300283e+03</td>\n",
       "      <td>0.017972</td>\n",
       "      <td>5.646339</td>\n",
       "      <td>0.802083</td>\n",
       "      <td>0.263788</td>\n",
       "      <td>0.014006</td>\n",
       "      <td>0.047411</td>\n",
       "      <td>99.047408</td>\n",
       "      <td>0.019652</td>\n",
       "      <td>65.462705</td>\n",
       "    </tr>\n",
       "    <tr>\n",
       "      <th>2</th>\n",
       "      <td>1</td>\n",
       "      <td>1435</td>\n",
       "      <td>-469.0</td>\n",
       "      <td>106.6</td>\n",
       "      <td>1.173562e+08</td>\n",
       "      <td>5.056022</td>\n",
       "      <td>358.00</td>\n",
       "      <td>2.047099</td>\n",
       "      <td>308</td>\n",
       "      <td>-187.809756</td>\n",
       "      <td>...</td>\n",
       "      <td>2.719290e+03</td>\n",
       "      <td>0.002197</td>\n",
       "      <td>7.271120</td>\n",
       "      <td>0.761672</td>\n",
       "      <td>0.612066</td>\n",
       "      <td>0.030079</td>\n",
       "      <td>0.007851</td>\n",
       "      <td>20.449641</td>\n",
       "      <td>0.000574</td>\n",
       "      <td>27.585544</td>\n",
       "    </tr>\n",
       "    <tr>\n",
       "      <th>3</th>\n",
       "      <td>0</td>\n",
       "      <td>37</td>\n",
       "      <td>-684.6</td>\n",
       "      <td>-43.8</td>\n",
       "      <td>6.711265e+06</td>\n",
       "      <td>4.324186</td>\n",
       "      <td>358.00</td>\n",
       "      <td>2.150586</td>\n",
       "      <td>64</td>\n",
       "      <td>-352.135135</td>\n",
       "      <td>...</td>\n",
       "      <td>1.930219e+03</td>\n",
       "      <td>0.035942</td>\n",
       "      <td>4.937500</td>\n",
       "      <td>0.864865</td>\n",
       "      <td>0.131836</td>\n",
       "      <td>0.017042</td>\n",
       "      <td>0.060322</td>\n",
       "      <td>318.438186</td>\n",
       "      <td>0.332661</td>\n",
       "      <td>109.343724</td>\n",
       "    </tr>\n",
       "    <tr>\n",
       "      <th>4</th>\n",
       "      <td>1</td>\n",
       "      <td>586</td>\n",
       "      <td>-442.5</td>\n",
       "      <td>66.0</td>\n",
       "      <td>3.079516e+07</td>\n",
       "      <td>4.245837</td>\n",
       "      <td>293.50</td>\n",
       "      <td>3.145447</td>\n",
       "      <td>322</td>\n",
       "      <td>-103.587031</td>\n",
       "      <td>...</td>\n",
       "      <td>2.162160e+03</td>\n",
       "      <td>0.003695</td>\n",
       "      <td>6.724091</td>\n",
       "      <td>0.706485</td>\n",
       "      <td>1.015800</td>\n",
       "      <td>0.016694</td>\n",
       "      <td>0.016312</td>\n",
       "      <td>21.854738</td>\n",
       "      <td>0.001027</td>\n",
       "      <td>33.306586</td>\n",
       "    </tr>\n",
       "  </tbody>\n",
       "</table>\n",
       "<p>5 rows × 1214 columns</p>\n",
       "</div>"
      ],
      "text/plain": [
       "   CustomLabel  general_info_VoxelNum  original_firstorder_10Percentile  \\\n",
       "0            0                    110                            -665.0   \n",
       "1            0                     96                            -609.0   \n",
       "2            1                   1435                            -469.0   \n",
       "3            0                     37                            -684.6   \n",
       "4            1                    586                            -442.5   \n",
       "\n",
       "   original_firstorder_90Percentile  original_firstorder_Energy  \\\n",
       "0                           32767.0                4.189658e+10   \n",
       "1                            -176.5                1.536506e+07   \n",
       "2                             106.6                1.173562e+08   \n",
       "3                             -43.8                6.711265e+06   \n",
       "4                              66.0                3.079516e+07   \n",
       "\n",
       "   original_firstorder_Entropy  original_firstorder_InterquartileRange  \\\n",
       "0                     3.499318                                33405.00   \n",
       "1                     4.122812                                  174.75   \n",
       "2                     5.056022                                  358.00   \n",
       "3                     4.324186                                  358.00   \n",
       "4                     4.245837                                  293.50   \n",
       "\n",
       "   original_firstorder_Kurtosis  original_firstorder_Maximum  \\\n",
       "0                      1.369834                        32767   \n",
       "1                      2.430640                         -141   \n",
       "2                      2.047099                          308   \n",
       "3                      2.150586                           64   \n",
       "4                      3.145447                          322   \n",
       "\n",
       "   original_firstorder_Mean  ...  \\\n",
       "0              11259.036360  ...   \n",
       "1               -373.468750  ...   \n",
       "2               -187.809756  ...   \n",
       "3               -352.135135  ...   \n",
       "4               -103.587031  ...   \n",
       "\n",
       "   wavelet-LLL_glszm_SmallAreaHighGrayLevelEmphasis  \\\n",
       "0                                      3.047325e+06   \n",
       "1                                      1.300283e+03   \n",
       "2                                      2.719290e+03   \n",
       "3                                      1.930219e+03   \n",
       "4                                      2.162160e+03   \n",
       "\n",
       "   wavelet-LLL_glszm_SmallAreaLowGrayLevelEmphasis  \\\n",
       "0                                         0.009643   \n",
       "1                                         0.017972   \n",
       "2                                         0.002197   \n",
       "3                                         0.035942   \n",
       "4                                         0.003695   \n",
       "\n",
       "   wavelet-LLL_glszm_ZoneEntropy  wavelet-LLL_glszm_ZonePercentage  \\\n",
       "0                       6.685392                          0.972727   \n",
       "1                       5.646339                          0.802083   \n",
       "2                       7.271120                          0.761672   \n",
       "3                       4.937500                          0.864865   \n",
       "4                       6.724091                          0.706485   \n",
       "\n",
       "   wavelet-LLL_glszm_ZoneVariance  wavelet-LLL_ngtdm_Busyness  \\\n",
       "0                        0.027251                    0.004608   \n",
       "1                        0.263788                    0.014006   \n",
       "2                        0.612066                    0.030079   \n",
       "3                        0.131836                    0.017042   \n",
       "4                        1.015800                    0.016694   \n",
       "\n",
       "   wavelet-LLL_ngtdm_Coarseness  wavelet-LLL_ngtdm_Complexity  \\\n",
       "0                      0.001740                 552404.988500   \n",
       "1                      0.047411                     99.047408   \n",
       "2                      0.007851                     20.449641   \n",
       "3                      0.060322                    318.438186   \n",
       "4                      0.016312                     21.854738   \n",
       "\n",
       "   wavelet-LLL_ngtdm_Contrast  wavelet-LLL_ngtdm_Strength  \n",
       "0                  834.579000                 7096.481974  \n",
       "1                    0.019652                   65.462705  \n",
       "2                    0.000574                   27.585544  \n",
       "3                    0.332661                  109.343724  \n",
       "4                    0.001027                   33.306586  \n",
       "\n",
       "[5 rows x 1214 columns]"
      ]
     },
     "execution_count": 175,
     "metadata": {},
     "output_type": "execute_result"
    }
   ],
   "source": [
    "radiofeature = data.loc[:, 'general_info_VoxelNum':'wavelet-LLL_ngtdm_Strength']\n",
    "label = data['CustomLabel']\n",
    "radiofeature.insert(0, \"CustomLabel\", label, True)\n",
    "\n",
    "radiofeature['CustomLabel'] = radiofeature['CustomLabel'].map({'benign': 0, 'malignant': 1})\n",
    "radiofeature.head()"
   ]
  },
  {
   "cell_type": "code",
   "execution_count": 176,
   "metadata": {},
   "outputs": [
    {
     "name": "stderr",
     "output_type": "stream",
     "text": [
      "C:\\Users\\User\\anaconda3\\envs\\ganzer\\lib\\site-packages\\seaborn\\_decorators.py:43: FutureWarning: Pass the following variable as a keyword arg: x. From version 0.12, the only valid positional argument will be `data`, and passing other arguments without an explicit keyword will result in an error or misinterpretation.\n",
      "  FutureWarning\n"
     ]
    },
    {
     "data": {
      "text/plain": [
       "<AxesSubplot:xlabel='CustomLabel', ylabel='count'>"
      ]
     },
     "execution_count": 176,
     "metadata": {},
     "output_type": "execute_result"
    },
    {
     "data": {
      "image/png": "[encoded data removed]",
      "text/plain": [
       "<Figure size 576x396 with 1 Axes>"
      ]
     },
     "metadata": {},
     "output_type": "display_data"
    }
   ],
   "source": [
    "sns.countplot(data['CustomLabel'])"
   ]
  },
  {
   "cell_type": "code",
   "execution_count": 177,
   "metadata": {},
   "outputs": [
    {
     "name": "stdout",
     "output_type": "stream",
     "text": [
      "CustomLabel                         0\n",
      "general_info_VoxelNum               0\n",
      "original_firstorder_10Percentile    0\n",
      "original_firstorder_90Percentile    0\n",
      "original_firstorder_Energy          0\n",
      "                                   ..\n",
      "wavelet-LLL_ngtdm_Busyness          0\n",
      "wavelet-LLL_ngtdm_Coarseness        0\n",
      "wavelet-LLL_ngtdm_Complexity        0\n",
      "wavelet-LLL_ngtdm_Contrast          0\n",
      "wavelet-LLL_ngtdm_Strength          0\n",
      "Length: 1214, dtype: int64\n"
     ]
    }
   ],
   "source": [
    "radiofeature.replace('inf', np.nan)\n",
    "nullvalue = radiofeature.isnull().sum()\n",
    "print(nullvalue)"
   ]
  },
  {
   "cell_type": "code",
   "execution_count": 178,
   "metadata": {},
   "outputs": [
    {
     "name": "stdout",
     "output_type": "stream",
     "text": [
      "<class 'pandas.core.frame.DataFrame'>\n",
      "Int64Index: 617 entries, 0 to 2742\n",
      "Columns: 1214 entries, CustomLabel to wavelet-LLL_ngtdm_Strength\n",
      "dtypes: float64(1208), int64(6)\n",
      "memory usage: 5.7 MB\n"
     ]
    }
   ],
   "source": [
    "dropRF = radiofeature.dropna(axis=1)\n",
    "dropRF = radiofeature.dropna(axis=0)\n",
    "dropRF.info()"
   ]
  },
  {
   "cell_type": "markdown",
   "metadata": {},
   "source": [
    "## Data set"
   ]
  },
  {
   "cell_type": "code",
   "execution_count": 179,
   "metadata": {},
   "outputs": [
    {
     "name": "stdout",
     "output_type": "stream",
     "text": [
      "555 62\n"
     ]
    }
   ],
   "source": [
    "train, test = train_test_split(dropRF, test_size=0.1, random_state=1004, shuffle=True)\n",
    "\n",
    "x_train = train.drop(['CustomLabel'], axis=1)\n",
    "y_train = train.CustomLabel\n",
    "\n",
    "x_test = test.drop(['CustomLabel'], axis=1)\n",
    "y_test = test.CustomLabel\n",
    "\n",
    "print(len(train), len(test))"
   ]
  },
  {
   "cell_type": "markdown",
   "metadata": {},
   "source": [
    "# Comparision of acc. according to the models"
   ]
  },
  {
   "cell_type": "code",
   "execution_count": 180,
   "metadata": {},
   "outputs": [
    {
     "name": "stdout",
     "output_type": "stream",
     "text": [
      "SVM: 79.03\n",
      "DecisionTreeClassifier: 74.19\n",
      "KNeighborsClassifier: 83.87\n",
      "LogisticRegression: 79.03\n"
     ]
    },
    {
     "name": "stderr",
     "output_type": "stream",
     "text": [
      "C:\\Users\\User\\anaconda3\\envs\\ganzer\\lib\\site-packages\\sklearn\\linear_model\\_logistic.py:764: ConvergenceWarning: lbfgs failed to converge (status=2):\n",
      "ABNORMAL_TERMINATION_IN_LNSRCH.\n",
      "\n",
      "Increase the number of iterations (max_iter) or scale the data as shown in:\n",
      "    https://scikit-learn.org/stable/modules/preprocessing.html\n",
      "Please also refer to the documentation for alternative solver options:\n",
      "    https://scikit-learn.org/stable/modules/linear_model.html#logistic-regression\n",
      "  extra_warning_msg=_LOGISTIC_SOLVER_CONVERGENCE_MSG)\n"
     ]
    },
    {
     "name": "stdout",
     "output_type": "stream",
     "text": [
      "RandomForestClassifier: 80.65\n"
     ]
    }
   ],
   "source": [
    "#SVM\n",
    "model = svm.SVC(gamma='scale')\n",
    "model.fit(x_train, y_train)\n",
    "\n",
    "y_pred = model.predict(x_test)\n",
    "\n",
    "print('SVM: %.2f' % (metrics.accuracy_score(y_pred, y_test) * 100))\n",
    "\n",
    "\n",
    "#DecisionTree\n",
    "model = DecisionTreeClassifier()\n",
    "model.fit(x_train, y_train)\n",
    "\n",
    "y_pred = model.predict(x_test)\n",
    "\n",
    "print('DecisionTreeClassifier: %.2f' % (metrics.accuracy_score(y_pred, y_test) * 100))\n",
    "\n",
    "#KNeighbors\n",
    "model = KNeighborsClassifier()\n",
    "model.fit(x_train, y_train)\n",
    "\n",
    "y_pred = model.predict(x_test)\n",
    "\n",
    "print('KNeighborsClassifier: %.2f' % (metrics.accuracy_score(y_pred, y_test) * 100))\n",
    "\n",
    "#LogisticRegression\n",
    "model = LogisticRegression(solver='lbfgs', max_iter=2000)\n",
    "model.fit(x_train, y_train)\n",
    "\n",
    "y_pred = model.predict(x_test)\n",
    "\n",
    "print('LogisticRegression: %.2f' % (metrics.accuracy_score(y_pred, y_test) * 100))\n",
    "\n",
    "#RandomForestClassifier\n",
    "model = RandomForestClassifier(n_estimators=100)\n",
    "model.fit(x_train, y_train)\n",
    "\n",
    "y_pred = model.predict(x_test)\n",
    "\n",
    "print('RandomForestClassifier: %.2f' % (metrics.accuracy_score(y_pred, y_test) * 100))"
   ]
  },
  {
   "cell_type": "markdown",
   "metadata": {},
   "source": [
    "# Importance of Radiomic Features"
   ]
  },
  {
   "cell_type": "code",
   "execution_count": 181,
   "metadata": {},
   "outputs": [
    {
     "name": "stdout",
     "output_type": "stream",
     "text": [
      "square_glszm_LargeAreaEmphasis                 0.010148\n",
      "square_glrlm_RunVariance                       0.009744\n",
      "original_glszm_ZonePercentage                  0.009095\n",
      "original_glrlm_RunVariance                     0.008568\n",
      "original_gldm_SmallDependenceEmphasis          0.008241\n",
      "                                                 ...   \n",
      "wavelet-HHH_ngtdm_Strength                     0.000000\n",
      "wavelet-HHH_glcm_SumSquares                    0.000000\n",
      "exponential_glszm_GrayLevelVariance            0.000000\n",
      "exponential_glszm_HighGrayLevelZoneEmphasis    0.000000\n",
      "wavelet-HLH_firstorder_Maximum                 0.000000\n",
      "Length: 1213, dtype: float64\n"
     ]
    }
   ],
   "source": [
    "features = pd.Series(model.feature_importances_, index=x_train.columns).sort_values(ascending=False)\n",
    "\n",
    "print(features)"
   ]
  },
  {
   "cell_type": "code",
   "execution_count": 182,
   "metadata": {},
   "outputs": [
    {
     "name": "stdout",
     "output_type": "stream",
     "text": [
      "Index(['square_glszm_LargeAreaEmphasis', 'square_glrlm_RunVariance',\n",
      "       'original_glszm_ZonePercentage', 'original_glrlm_RunVariance',\n",
      "       'original_gldm_SmallDependenceEmphasis',\n",
      "       'original_gldm_DependenceNonUniformityNormalized',\n",
      "       'square_glrlm_GrayLevelNonUniformity',\n",
      "       'original_glrlm_ShortRunEmphasis',\n",
      "       'original_glszm_SizeZoneNonUniformityNormalized',\n",
      "       'square_glszm_LargeAreaLowGrayLevelEmphasis'],\n",
      "      dtype='object')\n"
     ]
    }
   ],
   "source": [
    "top_10_features = features.keys()[:10]\n",
    "\n",
    "print(top_10_features)"
   ]
  },
  {
   "cell_type": "code",
   "execution_count": 183,
   "metadata": {},
   "outputs": [],
   "source": [
    "from mpl_toolkits.mplot3d import Axes3D\n",
    "from sklearn.decomposition import PCA"
   ]
  },
  {
   "cell_type": "code",
   "execution_count": 184,
   "metadata": {},
   "outputs": [
    {
     "data": {
      "image/png": "[encoded data removed]",
      "text/plain": [
       "<Figure size 1080x720 with 1 Axes>"
      ]
     },
     "metadata": {},
     "output_type": "display_data"
    }
   ],
   "source": [
    "fig = plt.figure(figsize=(15, 10))\n",
    "ax = Axes3D(fig, elev=-160, azim=120)\n",
    "X_reduced = PCA(n_components=5).fit_transform(radiofeature.loc[:, top_10_features])\n",
    "ax.scatter(X_reduced[:, 0], X_reduced[:, 1], X_reduced[:, 2], c=radiofeature['CustomLabel'], cmap=plt.cm.Set1, edgecolor='k', s=30)\n",
    "ax.set_title(\"SIEMENS CT\")\n",
    "ax.set_xlabel(\"x\")\n",
    "ax.w_xaxis.set_ticklabels([])\n",
    "ax.set_ylabel(\"y\")\n",
    "ax.w_yaxis.set_ticklabels([])\n",
    "ax.set_zlabel(\"z\")\n",
    "ax.w_zaxis.set_ticklabels([])\n",
    "\n",
    "plt.show()"
   ]
  },
  {
   "cell_type": "markdown",
   "metadata": {},
   "source": [
    "# Acc of model with Top 10 features"
   ]
  },
  {
   "cell_type": "code",
   "execution_count": 185,
   "metadata": {},
   "outputs": [
    {
     "name": "stdout",
     "output_type": "stream",
     "text": [
      "SVM: 72.58\n",
      "DecisionTreeClassifier: 62.90\n",
      "KNeighborsClassifier: 77.42\n",
      "LogisticRegression: 80.65\n",
      "RandomForestClassifier: 79.03\n"
     ]
    }
   ],
   "source": [
    "models = {\n",
    "    'SVM': svm.SVC(gamma='scale'),\n",
    "    'DecisionTreeClassifier': DecisionTreeClassifier(),\n",
    "    'KNeighborsClassifier': KNeighborsClassifier(),\n",
    "    'LogisticRegression': LogisticRegression(solver='lbfgs', max_iter=2000),\n",
    "    'RandomForestClassifier': RandomForestClassifier(n_estimators=1000)\n",
    "    }\n",
    "\n",
    "\n",
    "for name, model in models.items():\n",
    "    model.fit(x_train[top_10_features], y_train)\n",
    "    y_pred = model.predict(x_test[top_10_features])\n",
    "    print('%s: %.2f' % (name, (metrics.accuracy_score(y_pred, y_test) * 100)))\n"
   ]
  },
  {
   "cell_type": "markdown",
   "metadata": {},
   "source": [
    "# Cross Validation"
   ]
  },
  {
   "cell_type": "code",
   "execution_count": 186,
   "metadata": {},
   "outputs": [
    {
     "name": "stderr",
     "output_type": "stream",
     "text": [
      "C:\\Users\\User\\anaconda3\\envs\\ganzer\\lib\\site-packages\\sklearn\\model_selection\\_split.py:297: FutureWarning: Setting a random_state has no effect since shuffle is False. This will raise an error in 0.24. You should leave random_state to its default (None), or set shuffle=True.\n",
      "  FutureWarning\n"
     ]
    },
    {
     "name": "stdout",
     "output_type": "stream",
     "text": [
      "SVM: 56.57%\n",
      "DecisionTreeClassifier: 59.62%\n",
      "KNeighborsClassifier: 59.73%\n",
      "LogisticRegression: 64.61%\n",
      "RandomForestClassifier: 64.97%\n"
     ]
    }
   ],
   "source": [
    "models = {\n",
    "    'SVM': svm.SVC(gamma='scale'),\n",
    "    'DecisionTreeClassifier': DecisionTreeClassifier(),\n",
    "    'KNeighborsClassifier': KNeighborsClassifier(),\n",
    "    'LogisticRegression': LogisticRegression(solver='lbfgs', max_iter=2000),\n",
    "    'RandomForestClassifier': RandomForestClassifier(n_estimators=100)\n",
    "}\n",
    "\n",
    "cv = KFold(n_splits=5, random_state=2019)\n",
    "\n",
    "for name, model in models.items():\n",
    "    scores = cross_val_score(model, radiofeature[top_10_features], radiofeature.CustomLabel, cv=cv)\n",
    "    \n",
    "    print('%s: %.2f%%' % (name, np.mean(scores) * 100))"
   ]
  },
  {
   "cell_type": "markdown",
   "metadata": {},
   "source": [
    "# MinMax Normalization"
   ]
  },
  {
   "cell_type": "code",
   "execution_count": 187,
   "metadata": {},
   "outputs": [
    {
     "name": "stdout",
     "output_type": "stream",
     "text": [
      "SVM: 65.04%\n",
      "DecisionTreeClassifier: 59.48%\n",
      "KNeighborsClassifier: 60.06%\n",
      "LogisticRegression: 64.35%\n",
      "RandomForestClassifier: 64.68%\n"
     ]
    }
   ],
   "source": [
    "from sklearn.preprocessing import MinMaxScaler\n",
    "\n",
    "scaler = MinMaxScaler(feature_range=(0, 1))\n",
    "scaled_data = scaler.fit_transform(radiofeature[top_10_features])\n",
    "\n",
    "models = {\n",
    "    'SVM': svm.SVC(gamma='scale'),\n",
    "    'DecisionTreeClassifier': DecisionTreeClassifier(),\n",
    "    'KNeighborsClassifier': KNeighborsClassifier(),\n",
    "    'LogisticRegression': LogisticRegression(solver='lbfgs', max_iter=2000),\n",
    "    'RandomForestClassifier': RandomForestClassifier(n_estimators=100)\n",
    "}\n",
    "\n",
    "cv = KFold(n_splits=3, random_state=2019, shuffle = True)\n",
    "\n",
    "for name, model in models.items():\n",
    "    scores = cross_val_score(model, scaled_data, radiofeature.CustomLabel, cv=cv)\n",
    "    model.fit(x_train[top_10_features], y_train)\n",
    "    y_pred = model.predict(scaled_data)\n",
    "    print('%s: %.2f%%' % (name, np.mean(scores) * 100))\n"
   ]
  },
  {
   "cell_type": "code",
   "execution_count": 188,
   "metadata": {
    "scrolled": false
   },
   "outputs": [
    {
     "name": "stdout",
     "output_type": "stream",
     "text": [
      "input : malignant  ----------->  output : benign\n",
      "input : malignant  ----------->  output : benign\n",
      "input : benign  ----------->  output : benign\n",
      "input : benign  ----------->  output : benign\n",
      "input : malignant  ----------->  output : benign\n",
      "input : benign  ----------->  output : benign\n",
      "input : benign  ----------->  output : benign\n",
      "input : benign  ----------->  output : benign\n",
      "input : benign  ----------->  output : benign\n",
      "input : benign  ----------->  output : benign\n",
      "input : benign  ----------->  output : benign\n",
      "input : benign  ----------->  output : malignant\n",
      "input : benign  ----------->  output : malignant\n",
      "input : benign  ----------->  output : malignant\n",
      "input : benign  ----------->  output : malignant\n",
      "input : benign  ----------->  output : benign\n",
      "input : benign  ----------->  output : benign\n",
      "input : benign  ----------->  output : malignant\n",
      "input : benign  ----------->  output : benign\n",
      "input : benign  ----------->  output : malignant\n",
      "input : benign  ----------->  output : benign\n",
      "input : malignant  ----------->  output : benign\n",
      "input : malignant  ----------->  output : benign\n",
      "input : malignant  ----------->  output : benign\n",
      "input : benign  ----------->  output : benign\n",
      "input : malignant  ----------->  output : benign\n",
      "input : benign  ----------->  output : malignant\n",
      "input : benign  ----------->  output : benign\n",
      "input : malignant  ----------->  output : benign\n",
      "input : malignant  ----------->  output : benign\n",
      "input : benign  ----------->  output : benign\n",
      "input : benign  ----------->  output : benign\n",
      "input : benign  ----------->  output : benign\n",
      "input : benign  ----------->  output : benign\n",
      "input : malignant  ----------->  output : benign\n",
      "input : benign  ----------->  output : benign\n",
      "input : benign  ----------->  output : benign\n",
      "input : benign  ----------->  output : benign\n",
      "input : malignant  ----------->  output : benign\n",
      "input : benign  ----------->  output : benign\n",
      "input : benign  ----------->  output : benign\n",
      "input : benign  ----------->  output : benign\n",
      "input : benign  ----------->  output : benign\n",
      "input : benign  ----------->  output : benign\n",
      "input : benign  ----------->  output : benign\n",
      "input : benign  ----------->  output : benign\n",
      "input : benign  ----------->  output : benign\n",
      "input : benign  ----------->  output : benign\n",
      "input : malignant  ----------->  output : malignant\n",
      "input : benign  ----------->  output : malignant\n",
      "input : benign  ----------->  output : malignant\n",
      "input : benign  ----------->  output : benign\n",
      "input : benign  ----------->  output : benign\n",
      "input : benign  ----------->  output : benign\n",
      "input : benign  ----------->  output : benign\n",
      "input : benign  ----------->  output : benign\n",
      "input : benign  ----------->  output : malignant\n",
      "input : benign  ----------->  output : benign\n",
      "input : benign  ----------->  output : benign\n",
      "input : malignant  ----------->  output : benign\n",
      "input : benign  ----------->  output : benign\n",
      "input : benign  ----------->  output : benign\n"
     ]
    }
   ],
   "source": [
    "clf = ['benign', 'malignant']\n",
    "inp = np.array(y_test)\n",
    "oup = np.array(y_pred)\n",
    "\n",
    "for i in range(len(inp)):\n",
    "    print('input : ' + clf[inp[i]] + '  ----------->  output : ' + clf[oup[i]])\n"
   ]
  },
  {
   "cell_type": "code",
   "execution_count": 189,
   "metadata": {},
   "outputs": [
    {
     "data": {
      "image/png": "[encoded data removed]",
      "text/plain": [
       "<Figure size 576x396 with 2 Axes>"
      ]
     },
     "metadata": {},
     "output_type": "display_data"
    }
   ],
   "source": [
    "from yellowbrick.classifier import ClassificationReport\n",
    "\n",
    "vizualizer = ClassificationReport(model, classes=clf, support=True)\n",
    "vizualizer.fit(x_train.loc[:, top_10_features], y_train)\n",
    "vizualizer.score(x_test.loc[:, top_10_features], y_test)\n",
    "vizualizer.show();"
   ]
  },
  {
   "cell_type": "code",
   "execution_count": 190,
   "metadata": {},
   "outputs": [
    {
     "data": {
      "image/png": "[encoded data removed]",
      "text/plain": [
       "<Figure size 576x396 with 1 Axes>"
      ]
     },
     "metadata": {},
     "output_type": "display_data"
    }
   ],
   "source": [
    "from yellowbrick.classifier import ConfusionMatrix\n",
    "cm = ConfusionMatrix(model, classes=clf, percent=True) #label_encoder={0: 'Normal', 1: 'Fat', 2: 'Fibrosis'}\n",
    "cm.fit(x_train.loc[:, top_10_features], y_train)\n",
    "cm.score(x_test.loc[:, top_10_features], y_test)\n",
    "cm.show();"
   ]
  },
  {
   "cell_type": "code",
   "execution_count": 191,
   "metadata": {},
   "outputs": [
    {
     "data": {
      "image/png": "[encoded data removed]",
      "text/plain": [
       "<Figure size 576x396 with 1 Axes>"
      ]
     },
     "metadata": {},
     "output_type": "display_data"
    }
   ],
   "source": [
    "from yellowbrick.classifier import ClassPredictionError\n",
    "visualizer = ClassPredictionError(model, classes=clf)\n",
    "visualizer.fit(x_train.loc[:, top_10_features], y_train)\n",
    "visualizer.score(x_test.loc[:, top_10_features], y_test)\n",
    "visualizer.show();"
   ]
  },
  {
   "cell_type": "code",
   "execution_count": 193,
   "metadata": {},
   "outputs": [
    {
     "name": "stderr",
     "output_type": "stream",
     "text": [
      "C:\\Users\\User\\anaconda3\\envs\\ganzer\\lib\\site-packages\\seaborn\\_decorators.py:43: FutureWarning: Pass the following variable as a keyword arg: x. From version 0.12, the only valid positional argument will be `data`, and passing other arguments without an explicit keyword will result in an error or misinterpretation.\n",
      "  FutureWarning\n"
     ]
    },
    {
     "data": {
      "text/plain": [
       "<AxesSubplot:xlabel='CustomLabel', ylabel='count'>"
      ]
     },
     "execution_count": 193,
     "metadata": {},
     "output_type": "execute_result"
    },
    {
     "data": {
      "image/png": "[encoded data removed]",
      "text/plain": [
       "<Figure size 576x396 with 1 Axes>"
      ]
     },
     "metadata": {},
     "output_type": "display_data"
    }
   ],
   "source": [
    "sns.countplot(y_test)"
   ]
  },
  {
   "cell_type": "code",
   "execution_count": 164,
   "metadata": {},
   "outputs": [
    {
     "data": {
      "image/png": "[encoded data removed]",
      "text/plain": [
       "<Figure size 576x396 with 1 Axes>"
      ]
     },
     "metadata": {},
     "output_type": "display_data"
    }
   ],
   "source": [
    "from yellowbrick.classifier import ROCAUC\n",
    "\n",
    "visualizer = ROCAUC(model, classes=['benign', 'malignant'])\n",
    "visualizer.fit(x_train.loc[:, top_10_features], y_train)\n",
    "visualizer.score(x_test.loc[:, top_10_features], y_test)\n",
    "visualizer.show();"
   ]
  },
  {
   "cell_type": "markdown",
   "metadata": {},
   "source": [
    "# Deep Learning"
   ]
  },
  {
   "cell_type": "code",
   "execution_count": 165,
   "metadata": {},
   "outputs": [
    {
     "name": "stderr",
     "output_type": "stream",
     "text": [
      "Using TensorFlow backend.\n"
     ]
    }
   ],
   "source": [
    "from keras import utils, models, layers, optimizers\n",
    "from keras.models import Model, load_model, Sequential\n",
    "\n",
    "from keras.layers import Dense, Activation, Flatten, Dropout, BatchNormalization\n",
    "from keras.layers import Conv2D, MaxPooling2D, Input, concatenate\n",
    "from keras.preprocessing.image import ImageDataGenerator\n",
    "from keras import initializers, regularizers, metrics\n",
    "from keras.callbacks import ModelCheckpoint, EarlyStopping\n",
    "from keras.layers import GlobalAveragePooling2D, ZeroPadding2D, Add\n",
    "from keras.callbacks import ReduceLROnPlateau"
   ]
  },
  {
   "cell_type": "code",
   "execution_count": 166,
   "metadata": {},
   "outputs": [
    {
     "name": "stdout",
     "output_type": "stream",
     "text": [
      "Model: \"sequential_1\"\n",
      "_________________________________________________________________\n",
      "Layer (type)                 Output Shape              Param #   \n",
      "=================================================================\n",
      "dense_1 (Dense)              (None, 2048)              2486272   \n",
      "_________________________________________________________________\n",
      "dense_2 (Dense)              (None, 1024)              2098176   \n",
      "_________________________________________________________________\n",
      "dense_3 (Dense)              (None, 512)               524800    \n",
      "_________________________________________________________________\n",
      "dense_4 (Dense)              (None, 128)               65664     \n",
      "_________________________________________________________________\n",
      "dense_5 (Dense)              (None, 128)               16512     \n",
      "_________________________________________________________________\n",
      "dense_6 (Dense)              (None, 8)                 1032      \n",
      "_________________________________________________________________\n",
      "dense_7 (Dense)              (None, 1)                 9         \n",
      "=================================================================\n",
      "Total params: 5,192,465\n",
      "Trainable params: 5,192,465\n",
      "Non-trainable params: 0\n",
      "_________________________________________________________________\n"
     ]
    }
   ],
   "source": [
    "model = Sequential()\n",
    "model.add(Dense(2048, input_dim=1213, activation='relu'))\n",
    "model.add(Dense(1024, activation='relu'))\n",
    "model.add(Dense(512, activation='relu'))\n",
    "model.add(Dense(128, activation='relu'))\n",
    "model.add(Dense(128, activation='relu'))\n",
    "model.add(Dense(8, activation='relu'))\n",
    "model.add(Dense(1, activation='sigmoid'))\n",
    "# compile the keras model\n",
    "model.compile(optimizer = optimizers.Adam(lr = 1e-5), loss = 'binary_crossentropy', metrics = ['binary_accuracy'])\n",
    "model.summary()"
   ]
  },
  {
   "cell_type": "code",
   "execution_count": 167,
   "metadata": {},
   "outputs": [
    {
     "name": "stdout",
     "output_type": "stream",
     "text": [
      "Train on 555 samples, validate on 62 samples\n",
      "Epoch 1/100\n",
      "555/555 [==============================] - 1s 2ms/step - loss: 15732273267.7766 - binary_accuracy: 0.7658 - val_loss: 1072602240.0000 - val_binary_accuracy: 0.7903\n",
      "Epoch 2/100\n",
      "555/555 [==============================] - 0s 136us/step - loss: 995869556.0072 - binary_accuracy: 0.7658 - val_loss: 583757632.0000 - val_binary_accuracy: 0.7903\n",
      "Epoch 3/100\n",
      "555/555 [==============================] - 0s 165us/step - loss: 535392152.2739 - binary_accuracy: 0.7622 - val_loss: 175904928.0000 - val_binary_accuracy: 0.8065\n",
      "Epoch 4/100\n",
      "555/555 [==============================] - 0s 146us/step - loss: 149065583.4234 - binary_accuracy: 0.6937 - val_loss: 26939302.0000 - val_binary_accuracy: 0.6452\n",
      "Epoch 5/100\n",
      "555/555 [==============================] - 0s 138us/step - loss: 48880587.1550 - binary_accuracy: 0.6595 - val_loss: 14248230.0000 - val_binary_accuracy: 0.6290\n",
      "Epoch 6/100\n",
      "555/555 [==============================] - 0s 137us/step - loss: 18085810.0622 - binary_accuracy: 0.6450 - val_loss: 10905245.0000 - val_binary_accuracy: 0.5968\n",
      "Epoch 7/100\n",
      "555/555 [==============================] - 0s 124us/step - loss: 12160816.8027 - binary_accuracy: 0.6324 - val_loss: 7204319.5000 - val_binary_accuracy: 0.5806\n",
      "Epoch 8/100\n",
      "555/555 [==============================] - 0s 133us/step - loss: 2800430.1835 - binary_accuracy: 0.6198 - val_loss: 4933411.0000 - val_binary_accuracy: 0.5806\n",
      "Epoch 9/100\n",
      "555/555 [==============================] - 0s 137us/step - loss: 69758.3353 - binary_accuracy: 0.5874 - val_loss: 3556334.0000 - val_binary_accuracy: 0.5161\n",
      "Epoch 10/100\n",
      "555/555 [==============================] - 0s 146us/step - loss: 50719.7219 - binary_accuracy: 0.5315 - val_loss: 2934206.7500 - val_binary_accuracy: 0.4355\n",
      "Epoch 11/100\n",
      "555/555 [==============================] - 0s 123us/step - loss: 32967.9792 - binary_accuracy: 0.4613 - val_loss: 2645022.7500 - val_binary_accuracy: 0.4194\n",
      "Epoch 12/100\n",
      "555/555 [==============================] - 0s 140us/step - loss: 19644.4629 - binary_accuracy: 0.4270 - val_loss: 2508309.0000 - val_binary_accuracy: 0.3871\n",
      "Epoch 13/100\n",
      "555/555 [==============================] - 0s 109us/step - loss: 7504.7438 - binary_accuracy: 0.4072 - val_loss: 2438436.7500 - val_binary_accuracy: 0.3710\n",
      "Epoch 14/100\n",
      "555/555 [==============================] - 0s 137us/step - loss: 2027.9072 - binary_accuracy: 0.3856 - val_loss: 2394787.2500 - val_binary_accuracy: 0.3710\n",
      "Epoch 15/100\n",
      "555/555 [==============================] - 0s 136us/step - loss: 614.7061 - binary_accuracy: 0.3748 - val_loss: 2374093.5000 - val_binary_accuracy: 0.3548\n",
      "Epoch 16/100\n",
      "555/555 [==============================] - 0s 132us/step - loss: 84.1561 - binary_accuracy: 0.4541 - val_loss: 2363223.7500 - val_binary_accuracy: 0.7903\n",
      "Epoch 17/100\n",
      "555/555 [==============================] - 0s 137us/step - loss: 19.5179 - binary_accuracy: 0.7658 - val_loss: 2360643.0000 - val_binary_accuracy: 0.7903\n",
      "Epoch 18/100\n",
      "555/555 [==============================] - 0s 143us/step - loss: 15.6697 - binary_accuracy: 0.7658 - val_loss: 2360613.7500 - val_binary_accuracy: 0.7903\n",
      "Epoch 19/100\n",
      "555/555 [==============================] - 0s 142us/step - loss: 11.0195 - binary_accuracy: 0.7658 - val_loss: 2360132.2500 - val_binary_accuracy: 0.7903\n",
      "Epoch 20/100\n",
      "555/555 [==============================] - 0s 118us/step - loss: 8.3887 - binary_accuracy: 0.7658 - val_loss: 2359171.2500 - val_binary_accuracy: 0.7903\n",
      "Epoch 21/100\n",
      "555/555 [==============================] - 0s 131us/step - loss: 7.5713 - binary_accuracy: 0.7658 - val_loss: 2357687.7500 - val_binary_accuracy: 0.7903\n",
      "Epoch 22/100\n",
      "555/555 [==============================] - 0s 126us/step - loss: 6.0491 - binary_accuracy: 0.7658 - val_loss: 2356179.5000 - val_binary_accuracy: 0.7903\n",
      "Epoch 23/100\n",
      "555/555 [==============================] - 0s 157us/step - loss: 4.2192 - binary_accuracy: 0.7658 - val_loss: 2354718.0000 - val_binary_accuracy: 0.7903\n",
      "Epoch 24/100\n",
      "555/555 [==============================] - 0s 154us/step - loss: 2.7876 - binary_accuracy: 0.7658 - val_loss: 2353120.0000 - val_binary_accuracy: 0.7903\n",
      "Epoch 25/100\n",
      "555/555 [==============================] - 0s 149us/step - loss: 0.9780 - binary_accuracy: 0.7658 - val_loss: 2351660.7500 - val_binary_accuracy: 0.7903\n",
      "Epoch 26/100\n",
      "555/555 [==============================] - 0s 156us/step - loss: 0.5955 - binary_accuracy: 0.7658 - val_loss: 2350923.5000 - val_binary_accuracy: 0.7903\n",
      "Epoch 27/100\n",
      "555/555 [==============================] - 0s 123us/step - loss: 0.5955 - binary_accuracy: 0.7658 - val_loss: 2350631.7500 - val_binary_accuracy: 0.7903\n",
      "Epoch 28/100\n",
      "555/555 [==============================] - 0s 142us/step - loss: 0.5955 - binary_accuracy: 0.7658 - val_loss: 2350527.2500 - val_binary_accuracy: 0.7903\n",
      "Epoch 29/100\n",
      "555/555 [==============================] - 0s 122us/step - loss: 0.5955 - binary_accuracy: 0.7658 - val_loss: 2350500.5000 - val_binary_accuracy: 0.7903\n",
      "Epoch 30/100\n",
      "555/555 [==============================] - 0s 121us/step - loss: 0.5955 - binary_accuracy: 0.7658 - val_loss: 2350490.5000 - val_binary_accuracy: 0.7903\n",
      "Epoch 31/100\n",
      "555/555 [==============================] - 0s 143us/step - loss: 0.5954 - binary_accuracy: 0.7658 - val_loss: 2350483.2500 - val_binary_accuracy: 0.7903\n",
      "Epoch 32/100\n",
      "555/555 [==============================] - 0s 118us/step - loss: 0.5954 - binary_accuracy: 0.7658 - val_loss: 2350488.2500 - val_binary_accuracy: 0.7903\n",
      "Epoch 33/100\n",
      "555/555 [==============================] - 0s 114us/step - loss: 0.5954 - binary_accuracy: 0.7658 - val_loss: 2350493.2500 - val_binary_accuracy: 0.7903\n",
      "Epoch 34/100\n",
      "555/555 [==============================] - 0s 123us/step - loss: 0.5954 - binary_accuracy: 0.7658 - val_loss: 2350497.7500 - val_binary_accuracy: 0.7903\n",
      "Epoch 35/100\n",
      "555/555 [==============================] - 0s 124us/step - loss: 0.5954 - binary_accuracy: 0.7658 - val_loss: 2350500.5000 - val_binary_accuracy: 0.7903\n",
      "Epoch 36/100\n",
      "555/555 [==============================] - 0s 136us/step - loss: 0.5953 - binary_accuracy: 0.7658 - val_loss: 2350507.5000 - val_binary_accuracy: 0.7903\n",
      "Epoch 37/100\n",
      "555/555 [==============================] - 0s 111us/step - loss: 0.5953 - binary_accuracy: 0.7658 - val_loss: 2350497.7500 - val_binary_accuracy: 0.7903\n",
      "Epoch 38/100\n",
      "555/555 [==============================] - 0s 140us/step - loss: 0.5953 - binary_accuracy: 0.7658 - val_loss: 2350500.5000 - val_binary_accuracy: 0.7903\n",
      "Epoch 39/100\n",
      "555/555 [==============================] - 0s 124us/step - loss: 0.5953 - binary_accuracy: 0.7658 - val_loss: 2350502.7500 - val_binary_accuracy: 0.7903\n",
      "Epoch 40/100\n",
      "555/555 [==============================] - 0s 139us/step - loss: 0.5953 - binary_accuracy: 0.7658 - val_loss: 2350497.7500 - val_binary_accuracy: 0.7903\n",
      "Epoch 41/100\n",
      "555/555 [==============================] - 0s 124us/step - loss: 0.5952 - binary_accuracy: 0.7658 - val_loss: 2350510.2500 - val_binary_accuracy: 0.7903\n",
      "Epoch 42/100\n",
      "555/555 [==============================] - 0s 126us/step - loss: 0.5952 - binary_accuracy: 0.7658 - val_loss: 2350512.5000 - val_binary_accuracy: 0.7903\n",
      "Epoch 43/100\n",
      "555/555 [==============================] - 0s 138us/step - loss: 0.5952 - binary_accuracy: 0.7658 - val_loss: 2350512.5000 - val_binary_accuracy: 0.7903\n",
      "Epoch 44/100\n",
      "555/555 [==============================] - 0s 103us/step - loss: 0.5952 - binary_accuracy: 0.7658 - val_loss: 2350519.7500 - val_binary_accuracy: 0.7903\n",
      "Epoch 45/100\n",
      "555/555 [==============================] - 0s 139us/step - loss: 0.5952 - binary_accuracy: 0.7658 - val_loss: 2350517.5000 - val_binary_accuracy: 0.7903\n",
      "Epoch 46/100\n",
      "555/555 [==============================] - 0s 156us/step - loss: 0.5952 - binary_accuracy: 0.7658 - val_loss: 2350519.7500 - val_binary_accuracy: 0.7903\n",
      "Epoch 47/100\n",
      "555/555 [==============================] - 0s 156us/step - loss: 0.5951 - binary_accuracy: 0.7658 - val_loss: 2350522.2500 - val_binary_accuracy: 0.7903\n",
      "Epoch 48/100\n",
      "555/555 [==============================] - 0s 153us/step - loss: 0.5951 - binary_accuracy: 0.7658 - val_loss: 2350514.7500 - val_binary_accuracy: 0.7903\n",
      "Epoch 49/100\n",
      "555/555 [==============================] - 0s 148us/step - loss: 0.5951 - binary_accuracy: 0.7658 - val_loss: 2350517.5000 - val_binary_accuracy: 0.7903\n",
      "Epoch 50/100\n",
      "555/555 [==============================] - 0s 157us/step - loss: 0.5951 - binary_accuracy: 0.7658 - val_loss: 2350519.7500 - val_binary_accuracy: 0.7903\n",
      "Epoch 51/100\n",
      "555/555 [==============================] - 0s 148us/step - loss: 0.5951 - binary_accuracy: 0.7658 - val_loss: 2350517.5000 - val_binary_accuracy: 0.7903\n",
      "Epoch 52/100\n",
      "555/555 [==============================] - 0s 125us/step - loss: 0.5950 - binary_accuracy: 0.7658 - val_loss: 2350510.2500 - val_binary_accuracy: 0.7903\n",
      "Epoch 53/100\n",
      "555/555 [==============================] - 0s 116us/step - loss: 0.5950 - binary_accuracy: 0.7658 - val_loss: 2350512.5000 - val_binary_accuracy: 0.7903\n",
      "Epoch 54/100\n",
      "555/555 [==============================] - 0s 108us/step - loss: 0.5950 - binary_accuracy: 0.7658 - val_loss: 2350512.5000 - val_binary_accuracy: 0.7903\n",
      "Epoch 55/100\n",
      "555/555 [==============================] - 0s 135us/step - loss: 0.5950 - binary_accuracy: 0.7658 - val_loss: 2350512.5000 - val_binary_accuracy: 0.7903\n",
      "Epoch 56/100\n",
      "555/555 [==============================] - 0s 135us/step - loss: 0.5950 - binary_accuracy: 0.7658 - val_loss: 2350524.7500 - val_binary_accuracy: 0.7903\n",
      "Epoch 57/100\n",
      "555/555 [==============================] - 0s 136us/step - loss: 0.5950 - binary_accuracy: 0.7658 - val_loss: 2350514.7500 - val_binary_accuracy: 0.7903\n",
      "Epoch 58/100\n",
      "555/555 [==============================] - 0s 132us/step - loss: 0.5949 - binary_accuracy: 0.7658 - val_loss: 2350522.2500 - val_binary_accuracy: 0.7903\n",
      "Epoch 59/100\n",
      "555/555 [==============================] - 0s 149us/step - loss: 0.5949 - binary_accuracy: 0.7658 - val_loss: 2350517.5000 - val_binary_accuracy: 0.7903\n",
      "Epoch 60/100\n",
      "555/555 [==============================] - 0s 147us/step - loss: 0.5949 - binary_accuracy: 0.7658 - val_loss: 2350522.2500 - val_binary_accuracy: 0.7903\n",
      "Epoch 61/100\n",
      "555/555 [==============================] - 0s 150us/step - loss: 0.5949 - binary_accuracy: 0.7658 - val_loss: 2350529.5000 - val_binary_accuracy: 0.7903\n",
      "Epoch 62/100\n",
      "555/555 [==============================] - 0s 130us/step - loss: 0.5949 - binary_accuracy: 0.7658 - val_loss: 2350531.7500 - val_binary_accuracy: 0.7903\n",
      "Epoch 63/100\n",
      "555/555 [==============================] - 0s 137us/step - loss: 0.5949 - binary_accuracy: 0.7658 - val_loss: 2350531.7500 - val_binary_accuracy: 0.7903\n",
      "Epoch 64/100\n",
      "555/555 [==============================] - 0s 117us/step - loss: 0.5948 - binary_accuracy: 0.7658 - val_loss: 2350544.2500 - val_binary_accuracy: 0.7903\n",
      "Epoch 65/100\n",
      "555/555 [==============================] - 0s 125us/step - loss: 0.5948 - binary_accuracy: 0.7658 - val_loss: 2350541.7500 - val_binary_accuracy: 0.7903\n",
      "Epoch 66/100\n",
      "555/555 [==============================] - 0s 127us/step - loss: 0.5948 - binary_accuracy: 0.7658 - val_loss: 2350529.5000 - val_binary_accuracy: 0.7903\n",
      "Epoch 67/100\n",
      "555/555 [==============================] - 0s 122us/step - loss: 0.5948 - binary_accuracy: 0.7658 - val_loss: 2350531.7500 - val_binary_accuracy: 0.7903\n",
      "Epoch 68/100\n",
      "555/555 [==============================] - 0s 133us/step - loss: 0.5948 - binary_accuracy: 0.7658 - val_loss: 2350527.2500 - val_binary_accuracy: 0.7903\n",
      "Epoch 69/100\n",
      "555/555 [==============================] - 0s 123us/step - loss: 0.5947 - binary_accuracy: 0.7658 - val_loss: 2350531.7500 - val_binary_accuracy: 0.7903\n",
      "Epoch 70/100\n",
      "555/555 [==============================] - 0s 116us/step - loss: 0.5947 - binary_accuracy: 0.7658 - val_loss: 2350539.2500 - val_binary_accuracy: 0.7903\n",
      "Epoch 71/100\n",
      "555/555 [==============================] - 0s 123us/step - loss: 0.5947 - binary_accuracy: 0.7658 - val_loss: 2350539.2500 - val_binary_accuracy: 0.7903\n",
      "Epoch 72/100\n",
      "555/555 [==============================] - 0s 123us/step - loss: 0.5947 - binary_accuracy: 0.7658 - val_loss: 2350534.5000 - val_binary_accuracy: 0.7903\n",
      "Epoch 73/100\n",
      "555/555 [==============================] - 0s 133us/step - loss: 0.5947 - binary_accuracy: 0.7658 - val_loss: 2350541.7500 - val_binary_accuracy: 0.7903\n",
      "Epoch 74/100\n",
      "555/555 [==============================] - 0s 123us/step - loss: 0.5947 - binary_accuracy: 0.7658 - val_loss: 2350531.7500 - val_binary_accuracy: 0.7903\n",
      "Epoch 75/100\n",
      "555/555 [==============================] - 0s 128us/step - loss: 0.5946 - binary_accuracy: 0.7658 - val_loss: 2350536.7500 - val_binary_accuracy: 0.7903\n",
      "Epoch 76/100\n",
      "555/555 [==============================] - 0s 115us/step - loss: 0.5946 - binary_accuracy: 0.7658 - val_loss: 2350534.5000 - val_binary_accuracy: 0.7903\n",
      "Epoch 77/100\n",
      "555/555 [==============================] - 0s 118us/step - loss: 0.5946 - binary_accuracy: 0.7658 - val_loss: 2350546.5000 - val_binary_accuracy: 0.7903\n",
      "Epoch 78/100\n",
      "555/555 [==============================] - 0s 111us/step - loss: 0.5946 - binary_accuracy: 0.7658 - val_loss: 2350536.7500 - val_binary_accuracy: 0.7903\n",
      "Epoch 79/100\n",
      "555/555 [==============================] - 0s 145us/step - loss: 0.5946 - binary_accuracy: 0.7658 - val_loss: 2350536.7500 - val_binary_accuracy: 0.7903\n",
      "Epoch 80/100\n",
      "555/555 [==============================] - 0s 128us/step - loss: 0.5946 - binary_accuracy: 0.7658 - val_loss: 2350534.5000 - val_binary_accuracy: 0.7903\n",
      "Epoch 81/100\n",
      "555/555 [==============================] - 0s 118us/step - loss: 0.5945 - binary_accuracy: 0.7658 - val_loss: 2350539.2500 - val_binary_accuracy: 0.7903\n",
      "Epoch 82/100\n",
      "555/555 [==============================] - 0s 148us/step - loss: 0.5945 - binary_accuracy: 0.7658 - val_loss: 2350536.7500 - val_binary_accuracy: 0.7903\n",
      "Epoch 83/100\n",
      "555/555 [==============================] - 0s 150us/step - loss: 0.5945 - binary_accuracy: 0.7658 - val_loss: 2350541.7500 - val_binary_accuracy: 0.7903\n",
      "Epoch 84/100\n",
      "555/555 [==============================] - 0s 155us/step - loss: 0.5945 - binary_accuracy: 0.7658 - val_loss: 2350544.2500 - val_binary_accuracy: 0.7903\n",
      "Epoch 85/100\n",
      "555/555 [==============================] - 0s 152us/step - loss: 0.5945 - binary_accuracy: 0.7658 - val_loss: 2350541.7500 - val_binary_accuracy: 0.7903\n",
      "Epoch 86/100\n",
      "555/555 [==============================] - 0s 146us/step - loss: 0.5945 - binary_accuracy: 0.7658 - val_loss: 2350536.7500 - val_binary_accuracy: 0.7903\n",
      "Epoch 87/100\n",
      "555/555 [==============================] - 0s 132us/step - loss: 0.5944 - binary_accuracy: 0.7658 - val_loss: 2350544.2500 - val_binary_accuracy: 0.7903\n",
      "Epoch 88/100\n",
      "555/555 [==============================] - 0s 125us/step - loss: 0.5944 - binary_accuracy: 0.7658 - val_loss: 2350539.2500 - val_binary_accuracy: 0.7903\n",
      "Epoch 89/100\n",
      "555/555 [==============================] - 0s 118us/step - loss: 0.5944 - binary_accuracy: 0.7658 - val_loss: 2350534.5000 - val_binary_accuracy: 0.7903\n",
      "Epoch 90/100\n",
      "555/555 [==============================] - 0s 129us/step - loss: 0.5944 - binary_accuracy: 0.7658 - val_loss: 2350541.7500 - val_binary_accuracy: 0.7903\n",
      "Epoch 91/100\n",
      "555/555 [==============================] - 0s 139us/step - loss: 0.5944 - binary_accuracy: 0.7658 - val_loss: 2350541.7500 - val_binary_accuracy: 0.7903\n",
      "Epoch 92/100\n",
      "555/555 [==============================] - 0s 128us/step - loss: 0.5943 - binary_accuracy: 0.7658 - val_loss: 2350539.2500 - val_binary_accuracy: 0.7903\n",
      "Epoch 93/100\n",
      "555/555 [==============================] - 0s 123us/step - loss: 0.5943 - binary_accuracy: 0.7658 - val_loss: 2350539.2500 - val_binary_accuracy: 0.7903\n",
      "Epoch 94/100\n",
      "555/555 [==============================] - 0s 124us/step - loss: 0.5943 - binary_accuracy: 0.7658 - val_loss: 2350531.7500 - val_binary_accuracy: 0.7903\n",
      "Epoch 95/100\n",
      "555/555 [==============================] - 0s 126us/step - loss: 0.5943 - binary_accuracy: 0.7658 - val_loss: 2350534.5000 - val_binary_accuracy: 0.7903\n",
      "Epoch 96/100\n",
      "555/555 [==============================] - 0s 138us/step - loss: 0.5943 - binary_accuracy: 0.7658 - val_loss: 2350531.7500 - val_binary_accuracy: 0.7903\n",
      "Epoch 97/100\n",
      "555/555 [==============================] - 0s 156us/step - loss: 0.5943 - binary_accuracy: 0.7658 - val_loss: 2350539.2500 - val_binary_accuracy: 0.7903\n",
      "Epoch 98/100\n"
     ]
    },
    {
     "name": "stdout",
     "output_type": "stream",
     "text": [
      "555/555 [==============================] - 0s 160us/step - loss: 0.5942 - binary_accuracy: 0.7658 - val_loss: 2350534.5000 - val_binary_accuracy: 0.7903\n",
      "Epoch 99/100\n",
      "555/555 [==============================] - 0s 154us/step - loss: 0.5942 - binary_accuracy: 0.7658 - val_loss: 2350531.7500 - val_binary_accuracy: 0.7903\n",
      "Epoch 100/100\n",
      "555/555 [==============================] - 0s 149us/step - loss: 0.5942 - binary_accuracy: 0.7658 - val_loss: 2350541.7500 - val_binary_accuracy: 0.7903\n"
     ]
    }
   ],
   "source": [
    "history = model.fit(x_train, y_train, epochs=100, batch_size=64, validation_data=(x_test, y_test), callbacks=[ReduceLROnPlateau(monitor='val_loss', factor=0.2, patience=10, verbose=1, mode='auto', min_lr=1e-05)])\n"
   ]
  },
  {
   "cell_type": "markdown",
   "metadata": {},
   "source": [
    "Train on 493 samples, validate on 124 samples\n",
    "Epoch 1/100\n",
    "493/493 [==============================] - 1s 2ms/step - loss: 2168725843.5375 - binary_accuracy: 0.7627 - val_loss: 1018854284.3871 - val_binary_accuracy: 0.7984\n",
    "Epoch 2/100\n",
    "493/493 [==============================] - 0s 140us/step - loss: 503036744.5680 - binary_accuracy: 0.7586 - val_loss: 551996424.2581 - val_binary_accuracy: 0.7903\n",
    "Epoch 3/100\n",
    "493/493 [==============================] - 0s 111us/step - loss: 230916768.0568 - binary_accuracy: 0.7586 - val_loss: 314278581.6774 - val_binary_accuracy: 0.7903\n",
    "Epoch 4/100\n",
    "493/493 [==============================] - 0s 137us/step - loss: 66466596.1542 - binary_accuracy: 0.6775 - val_loss: 231002512.5161 - val_binary_accuracy: 0.7419\n",
    "Epoch 5/100\n",
    "493/493 [==============================] - 0s 127us/step - loss: 22768368.8230 - binary_accuracy: 0.5903 - val_loss: 234868368.0000 - val_binary_accuracy: 0.7339\n",
    "Epoch 6/100\n",
    "493/493 [==============================] - 0s 140us/step - loss: 10733630.8263 - binary_accuracy: 0.5700 - val_loss: 242340810.3226 - val_binary_accuracy: 0.7177\n",
    "Epoch 7/100\n",
    "493/493 [==============================] - 0s 140us/step - loss: 2856025.0979 - binary_accuracy: 0.5396 - val_loss: 248751884.9154 - val_binary_accuracy: 0.6774\n",
    "Epoch 8/100\n",
    "493/493 [==============================] - 0s 127us/step - loss: 822986.7544 - binary_accuracy: 0.5071 - val_loss: 256372352.8942 - val_binary_accuracy: 0.6129\n",
    "Epoch 9/100\n",
    "493/493 [==============================] - 0s 140us/step - loss: 464807.3795 - binary_accuracy: 0.4868 - val_loss: 260904621.2199 - val_binary_accuracy: 0.5645\n",
    "Epoch 10/100\n",
    "493/493 [==============================] - 0s 127us/step - loss: 144989.8818 - binary_accuracy: 0.4706 - val_loss: 263394960.8919 - val_binary_accuracy: 0.5565\n",
    "Epoch 11/100\n",
    "493/493 [==============================] - 0s 120us/step - loss: 113746.4483 - binary_accuracy: 0.4645 - val_loss: 264989990.0542 - val_binary_accuracy: 0.5484\n",
    "Epoch 12/100\n",
    "493/493 [==============================] - 0s 114us/step - loss: 94738.6948 - binary_accuracy: 0.4544 - val_loss: 266239233.1563 - val_binary_accuracy: 0.7661\n",
    "Epoch 13/100\n",
    "493/493 [==============================] - 0s 127us/step - loss: 66536.4031 - binary_accuracy: 0.7221 - val_loss: 267311246.3531 - val_binary_accuracy: 0.7661\n",
    "Epoch 14/100\n",
    "493/493 [==============================] - 0s 143us/step - loss: 48140.4256 - binary_accuracy: 0.7201 - val_loss: 268649612.5963 - val_binary_accuracy: 0.7581\n",
    "Epoch 15/100\n",
    "493/493 [==============================] - 0s 137us/step - loss: 38417.4868 - binary_accuracy: 0.7201 - val_loss: 269793593.1066 - val_binary_accuracy: 0.7581\n",
    "Epoch 16/100\n",
    "493/493 [==============================] - 0s 127us/step - loss: 30640.7202 - binary_accuracy: 0.7201 - val_loss: 270670537.5486 - val_binary_accuracy: 0.7581\n",
    "Epoch 17/100\n",
    "493/493 [==============================] - 0s 140us/step - loss: 17791.8855 - binary_accuracy: 0.7221 - val_loss: 271429834.9811 - val_binary_accuracy: 0.7581\n",
    "Epoch 18/100\n",
    "493/493 [==============================] - 0s 108us/step - loss: 16232.1170 - binary_accuracy: 0.7181 - val_loss: 272076223.5978 - val_binary_accuracy: 0.7661\n",
    "Epoch 19/100\n",
    "493/493 [==============================] - 0s 95us/step - loss: 3866.6866 - binary_accuracy: 0.7241 - val_loss: 272655722.5999 - val_binary_accuracy: 0.7742\n",
    "Epoch 20/100\n",
    "493/493 [==============================] - 0s 102us/step - loss: 234.5362 - binary_accuracy: 0.7302 - val_loss: 273024455.6061 - val_binary_accuracy: 0.7742\n",
    "Epoch 21/100\n",
    "493/493 [==============================] - 0s 140us/step - loss: 204.2950 - binary_accuracy: 0.7343 - val_loss: 273376279.8533 - val_binary_accuracy: 0.7742\n",
    "Epoch 22/100\n",
    "493/493 [==============================] - 0s 127us/step - loss: 182.0681 - binary_accuracy: 0.7363 - val_loss: 273668738.8902 - val_binary_accuracy: 0.7742\n",
    "Epoch 23/100\n",
    "493/493 [==============================] - 0s 140us/step - loss: 166.1894 - binary_accuracy: 0.7404 - val_loss: 273827912.8405 - val_binary_accuracy: 0.7742\n",
    "Epoch 24/100\n",
    "493/493 [==============================] - 0s 140us/step - loss: 155.5674 - binary_accuracy: 0.7424 - val_loss: 273896939.7935 - val_binary_accuracy: 0.7742\n",
    "Epoch 25/100\n",
    "493/493 [==============================] - 0s 127us/step - loss: 156.2020 - binary_accuracy: 0.7424 - val_loss: 273926358.8939 - val_binary_accuracy: 0.7742\n",
    "Epoch 26/100\n",
    "493/493 [==============================] - 0s 140us/step - loss: 131.0804 - binary_accuracy: 0.7444 - val_loss: 273937011.3054 - val_binary_accuracy: 0.7742\n",
    "Epoch 27/100\n",
    "493/493 [==============================] - 0s 127us/step - loss: 126.0992 - binary_accuracy: 0.7444 - val_loss: 273943235.6445 - val_binary_accuracy: 0.7742\n",
    "Epoch 28/100\n",
    "493/493 [==============================] - 0s 108us/step - loss: 115.0219 - binary_accuracy: 0.7444 - val_loss: 273946146.5850 - val_binary_accuracy: 0.7742\n",
    "Epoch 29/100\n",
    "493/493 [==============================] - 0s 108us/step - loss: 104.6483 - binary_accuracy: 0.7444 - val_loss: 273948871.7916 - val_binary_accuracy: 0.7742\n",
    "Epoch 30/100\n",
    "493/493 [==============================] - 0s 127us/step - loss: 100.5912 - binary_accuracy: 0.7444 - val_loss: 273951968.5643 - val_binary_accuracy: 0.7742\n",
    "Epoch 31/100\n",
    "493/493 [==============================] - 0s 140us/step - loss: 79.6827 - binary_accuracy: 0.7465 - val_loss: 273954074.3593 - val_binary_accuracy: 0.7742\n",
    "Epoch 32/100\n",
    "493/493 [==============================] - 0s 140us/step - loss: 78.7807 - binary_accuracy: 0.7465 - val_loss: 273955127.2056 - val_binary_accuracy: 0.7742\n",
    "Epoch 33/100\n",
    "493/493 [==============================] - 0s 127us/step - loss: 78.2522 - binary_accuracy: 0.7465 - val_loss: 273956025.2021 - val_binary_accuracy: 0.7742\n",
    "Epoch 34/100\n",
    "493/493 [==============================] - 0s 140us/step - loss: 77.8893 - binary_accuracy: 0.7465 - val_loss: 273956830.2722 - val_binary_accuracy: 0.7742\n",
    "Epoch 35/100\n",
    "493/493 [==============================] - 0s 108us/step - loss: 77.2712 - binary_accuracy: 0.7465 - val_loss: 273957542.4498 - val_binary_accuracy: 0.7742\n",
    "Epoch 36/100\n",
    "493/493 [==============================] - 0s 127us/step - loss: 76.8062 - binary_accuracy: 0.7465 - val_loss: 273958378.4921 - val_binary_accuracy: 0.7742\n",
    "Epoch 37/100\n",
    "493/493 [==============================] - 0s 140us/step - loss: 76.3600 - binary_accuracy: 0.7465 - val_loss: 273959028.7333 - val_binary_accuracy: 0.7742\n",
    "Epoch 38/100\n",
    "493/493 [==============================] - 0s 144us/step - loss: 75.7221 - binary_accuracy: 0.7465 - val_loss: 273959679.0033 - val_binary_accuracy: 0.7742\n",
    "Epoch 39/100\n",
    "493/493 [==============================] - 0s 131us/step - loss: 75.3208 - binary_accuracy: 0.7465 - val_loss: 273960484.1242 - val_binary_accuracy: 0.7742\n",
    "Epoch 40/100\n",
    "493/493 [==============================] - 0s 129us/step - loss: 74.7656 - binary_accuracy: 0.7465 - val_loss: 273961010.4979 - val_binary_accuracy: 0.7742\n",
    "Epoch 41/100\n",
    "493/493 [==============================] - 0s 126us/step - loss: 74.1669 - binary_accuracy: 0.7465 - val_loss: 273961351.0886 - val_binary_accuracy: 0.7742\n",
    "Epoch 42/100\n",
    "493/493 [==============================] - 0s 128us/step - loss: 73.6070 - binary_accuracy: 0.7485 - val_loss: 273961691.6845 - val_binary_accuracy: 0.7742\n",
    "Epoch 43/100\n",
    "493/493 [==============================] - 0s 126us/step - loss: 73.1716 - binary_accuracy: 0.7485 - val_loss: 273961412.9207 - val_binary_accuracy: 0.7742\n",
    "Epoch 44/100\n",
    "493/493 [==============================] - 0s 130us/step - loss: 72.6828 - binary_accuracy: 0.7465 - val_loss: 273935802.5349 - val_binary_accuracy: 0.7742\n",
    "Epoch 45/100\n",
    "493/493 [==============================] - 0s 127us/step - loss: 72.1345 - binary_accuracy: 0.7465 - val_loss: 273922052.7848 - val_binary_accuracy: 0.7742\n",
    "Epoch 46/100\n",
    "493/493 [==============================] - 0s 126us/step - loss: 71.5768 - binary_accuracy: 0.7465 - val_loss: 273916416.5968 - val_binary_accuracy: 0.7742\n",
    "Epoch 47/100\n",
    "493/493 [==============================] - 0s 131us/step - loss: 70.9978 - binary_accuracy: 0.7465 - val_loss: 273913846.1946 - val_binary_accuracy: 0.7742\n",
    "Epoch 48/100\n",
    "493/493 [==============================] - 0s 126us/step - loss: 70.4981 - binary_accuracy: 0.7465 - val_loss: 273912948.0389 - val_binary_accuracy: 0.7742\n",
    "Epoch 49/100\n",
    "493/493 [==============================] - 0s 127us/step - loss: 69.9171 - binary_accuracy: 0.7465 - val_loss: 273912545.3826 - val_binary_accuracy: 0.7742\n",
    "Epoch 50/100\n",
    "493/493 [==============================] - 0s 128us/step - loss: 69.3516 - binary_accuracy: 0.7485 - val_loss: 273912390.4442 - val_binary_accuracy: 0.7742\n",
    "Epoch 51/100\n",
    "493/493 [==============================] - 0s 128us/step - loss: 68.7495 - binary_accuracy: 0.7485 - val_loss: 273912545.1619 - val_binary_accuracy: 0.7742\n",
    "Epoch 52/100\n",
    "493/493 [==============================] - 0s 128us/step - loss: 68.0072 - binary_accuracy: 0.7485 - val_loss: 273912514.1015 - val_binary_accuracy: 0.7742\n",
    "Epoch 53/100\n",
    "493/493 [==============================] - 0s 112us/step - loss: 67.5458 - binary_accuracy: 0.7485 - val_loss: 273912421.0645 - val_binary_accuracy: 0.7742\n",
    "Epoch 54/100\n",
    "493/493 [==============================] - 0s 128us/step - loss: 66.8268 - binary_accuracy: 0.7485 - val_loss: 273912513.8873 - val_binary_accuracy: 0.7742\n",
    "Epoch 55/100\n",
    "493/493 [==============================] - 0s 140us/step - loss: 66.1764 - binary_accuracy: 0.7485 - val_loss: 273912730.5915 - val_binary_accuracy: 0.7742\n",
    "Epoch 56/100\n",
    "493/493 [==============================] - 0s 127us/step - loss: 65.3323 - binary_accuracy: 0.7485 - val_loss: 273907311.1857 - val_binary_accuracy: 0.7742\n",
    "Epoch 57/100\n",
    "493/493 [==============================] - 0s 117us/step - loss: 64.7647 - binary_accuracy: 0.7465 - val_loss: 273883466.0212 - val_binary_accuracy: 0.7742\n",
    "Epoch 58/100\n",
    "493/493 [==============================] - 0s 131us/step - loss: 63.9825 - binary_accuracy: 0.7465 - val_loss: 273891889.2528 - val_binary_accuracy: 0.7742\n",
    "Epoch 59/100\n",
    "493/493 [==============================] - 0s 127us/step - loss: 63.2048 - binary_accuracy: 0.7465 - val_loss: 273895605.3136 - val_binary_accuracy: 0.7742\n",
    "Epoch 60/100\n",
    "493/493 [==============================] - 0s 108us/step - loss: 62.4666 - binary_accuracy: 0.7465 - val_loss: 273897432.3404 - val_binary_accuracy: 0.7742\n",
    "Epoch 61/100\n",
    "493/493 [==============================] - 0s 127us/step - loss: 61.6668 - binary_accuracy: 0.7465 - val_loss: 273898578.0842 - val_binary_accuracy: 0.7742\n",
    "Epoch 62/100\n",
    "493/493 [==============================] - 0s 108us/step - loss: 60.8692 - binary_accuracy: 0.7465 - val_loss: 273899104.4614 - val_binary_accuracy: 0.7742\n",
    "Epoch 63/100\n",
    "493/493 [==============================] - 0s 140us/step - loss: 60.1061 - binary_accuracy: 0.7465 - val_loss: 273899661.7654 - val_binary_accuracy: 0.7742\n",
    "Epoch 64/100\n",
    "493/493 [==============================] - 0s 127us/step - loss: 59.2497 - binary_accuracy: 0.7465 - val_loss: 273899878.4448 - val_binary_accuracy: 0.7823\n",
    "Epoch 65/100\n",
    "493/493 [==============================] - 0s 140us/step - loss: 58.3863 - binary_accuracy: 0.7465 - val_loss: 273899909.2813 - val_binary_accuracy: 0.7823\n",
    "Epoch 66/100\n",
    "493/493 [==============================] - 0s 108us/step - loss: 57.5179 - binary_accuracy: 0.7465 - val_loss: 273900373.6744 - val_binary_accuracy: 0.7823\n",
    "Epoch 67/100\n",
    "493/493 [==============================] - 0s 127us/step - loss: 56.5924 - binary_accuracy: 0.7465 - val_loss: 273900435.4922 - val_binary_accuracy: 0.7823\n",
    "Epoch 68/100\n",
    "493/493 [==============================] - 0s 108us/step - loss: 56.5140 - binary_accuracy: 0.7465 - val_loss: 273904120.3717 - val_binary_accuracy: 0.7823\n",
    "Epoch 69/100\n",
    "493/493 [==============================] - 0s 140us/step - loss: 47.7985 - binary_accuracy: 0.7485 - val_loss: 273907247.7827 - val_binary_accuracy: 0.7823\n",
    "Epoch 70/100\n",
    "493/493 [==============================] - 0s 127us/step - loss: 47.0066 - binary_accuracy: 0.7465 - val_loss: 273898669.6210 - val_binary_accuracy: 0.7823\n",
    "Epoch 71/100\n",
    "493/493 [==============================] - 0s 140us/step - loss: 46.4437 - binary_accuracy: 0.7485 - val_loss: 273895263.0225 - val_binary_accuracy: 0.7823\n",
    "Epoch 72/100\n",
    "493/493 [==============================] - 0s 140us/step - loss: 45.7870 - binary_accuracy: 0.7485 - val_loss: 273893683.4946 - val_binary_accuracy: 0.7823\n",
    "Epoch 73/100\n",
    "493/493 [==============================] - 0s 127us/step - loss: 44.8726 - binary_accuracy: 0.7485 - val_loss: 273893342.6801 - val_binary_accuracy: 0.7823\n",
    "Epoch 74/100\n",
    "493/493 [==============================] - 0s 108us/step - loss: 44.1586 - binary_accuracy: 0.7485 - val_loss: 273924557.9932 - val_binary_accuracy: 0.7823\n",
    "Epoch 75/100\n",
    "493/493 [==============================] - 0s 127us/step - loss: 43.3561 - binary_accuracy: 0.7485 - val_loss: 273950353.9454 - val_binary_accuracy: 0.7823\n",
    "Epoch 76/100\n",
    "493/493 [==============================] - 0s 108us/step - loss: 42.7162 - binary_accuracy: 0.7485 - val_loss: 273961842.7871 - val_binary_accuracy: 0.7823\n",
    "Epoch 77/100\n",
    "493/493 [==============================] - 0s 108us/step - loss: 41.6648 - binary_accuracy: 0.7485 - val_loss: 273966766.5035 - val_binary_accuracy: 0.7823\n",
    "Epoch 78/100\n",
    "493/493 [==============================] - 0s 127us/step - loss: 41.1224 - binary_accuracy: 0.7505 - val_loss: 273969119.8533 - val_binary_accuracy: 0.7823\n",
    "Epoch 79/100\n",
    "493/493 [==============================] - 0s 140us/step - loss: 40.2868 - binary_accuracy: 0.7505 - val_loss: 273970791.9423 - val_binary_accuracy: 0.7823\n",
    "Epoch 80/100\n",
    "493/493 [==============================] - 0s 140us/step - loss: 84.4206 - binary_accuracy: 0.7485 - val_loss: 273921582.8382 - val_binary_accuracy: 0.7742\n",
    "Epoch 81/100\n",
    "493/493 [==============================] - 0s 127us/step - loss: 80.1669 - binary_accuracy: 0.7424 - val_loss: 273899346.5730 - val_binary_accuracy: 0.7742\n",
    "Epoch 82/100\n",
    "493/493 [==============================] - 0s 140us/step - loss: 76.0526 - binary_accuracy: 0.7424 - val_loss: 273892811.7838 - val_binary_accuracy: 0.7742\n",
    "Epoch 83/100\n",
    "493/493 [==============================] - 0s 108us/step - loss: 57.7292 - binary_accuracy: 0.7444 - val_loss: 273891975.4777 - val_binary_accuracy: 0.7742\n",
    "Epoch 84/100\n",
    "493/493 [==============================] - 0s 127us/step - loss: 54.2452 - binary_accuracy: 0.7465 - val_loss: 273893338.0189 - val_binary_accuracy: 0.7742\n",
    "Epoch 85/100\n",
    "493/493 [==============================] - 0s 108us/step - loss: 53.2282 - binary_accuracy: 0.7485 - val_loss: 273894452.7640 - val_binary_accuracy: 0.7742\n",
    "Epoch 86/100\n",
    "493/493 [==============================] - 0s 140us/step - loss: 52.4136 - binary_accuracy: 0.7485 - val_loss: 273895010.1227 - val_binary_accuracy: 0.7742\n",
    "Epoch 87/100\n",
    "493/493 [==============================] - 0s 127us/step - loss: 50.6464 - binary_accuracy: 0.7485 - val_loss: 273895319.8621 - val_binary_accuracy: 0.7742\n",
    "Epoch 88/100\n",
    "493/493 [==============================] - 0s 140us/step - loss: 48.2376 - binary_accuracy: 0.7485 - val_loss: 273895876.7236 - val_binary_accuracy: 0.7742\n",
    "Epoch 89/100\n",
    "493/493 [==============================] - 0s 140us/step - loss: 44.9811 - binary_accuracy: 0.7505 - val_loss: 273896526.5769 - val_binary_accuracy: 0.7742\n",
    "Epoch 90/100\n",
    "493/493 [==============================] - 0s 127us/step - loss: 42.8394 - binary_accuracy: 0.7505 - val_loss: 273896680.4038 - val_binary_accuracy: 0.7742\n",
    "Epoch 91/100\n",
    "493/493 [==============================] - 0s 140us/step - loss: 40.8381 - binary_accuracy: 0.7444 - val_loss: 273896865.3216 - val_binary_accuracy: 0.7742\n",
    "Epoch 92/100\n",
    "493/493 [==============================] - 0s 127us/step - loss: 38.0705 - binary_accuracy: 0.7505 - val_loss: 273897638.9177 - val_binary_accuracy: 0.7742\n",
    "Epoch 93/100\n",
    "493/493 [==============================] - 0s 127us/step - loss: 36.9944 - binary_accuracy: 0.7505 - val_loss: 273898195.6565 - val_binary_accuracy: 0.7742\n",
    "Epoch 94/100\n",
    "493/493 [==============================] - 0s 108us/step - loss: 35.4747 - binary_accuracy: 0.7525 - val_loss: 273898070.9015 - val_binary_accuracy: 0.7742\n",
    "Epoch 95/100\n",
    "493/493 [==============================] - 0s 127us/step - loss: 33.7749 - binary_accuracy: 0.7525 - val_loss: 273897884.1822 - val_binary_accuracy: 0.7742\n",
    "Epoch 96/100\n",
    "493/493 [==============================] - 0s 108us/step - loss: 32.4153 - binary_accuracy: 0.7525 - val_loss: 273897728.3674 - val_binary_accuracy: 0.7742\n",
    "Epoch 97/100\n",
    "493/493 [==============================] - 0s 139us/step - loss: 31.0661 - binary_accuracy: 0.7546 - val_loss: 273897015.1226 - val_binary_accuracy: 0.7742\n",
    "Epoch 98/100\n",
    "493/493 [==============================] - 0s 127us/step - loss: 29.4358 - binary_accuracy: 0.7566 - val_loss: 273896580.6961 - val_binary_accuracy: 0.7742\n",
    "Epoch 99/100\n",
    "493/493 [==============================] - 0s 140us/step - loss: 29.8087 - binary_accuracy: 0.7566 - val_loss: 273897107.1425 - val_binary_accuracy: 0.7742\n",
    "Epoch 100/100\n",
    "493/493 [==============================] - 0s 140us/step - loss: 28.2546 - binary_accuracy: 0.7566 - val_loss: 273897199.8182 - val_binary_accuracy: 0.7742"
   ]
  },
  {
   "cell_type": "code",
   "execution_count": 168,
   "metadata": {},
   "outputs": [
    {
     "data": {
      "text/plain": [
       "[<matplotlib.lines.Line2D at 0x18e7c35d948>]"
      ]
     },
     "execution_count": 168,
     "metadata": {},
     "output_type": "execute_result"
    },
    {
     "data": {
      "image/png": "[encoded data removed]",
      "text/plain": [
       "<Figure size 720x504 with 4 Axes>"
      ]
     },
     "metadata": {},
     "output_type": "display_data"
    }
   ],
   "source": [
    "trained_weight = \"C:\\\\Users\\\\User\\\\Desktop\\\\weight.hdf5\"\n",
    "model.save_weights(trained_weight)\n",
    "        \n",
    "fig, ax = plt.subplots(2, 2, figsize=(10, 7))\n",
    "\n",
    "ax[0, 0].set_title('loss')\n",
    "ax[0, 0].plot(history.history['loss'], 'r')\n",
    "ax[0, 1].set_title('binary_accuracy')\n",
    "ax[0, 1].plot(history.history['binary_accuracy'], 'b')\n",
    "\n",
    "ax[1, 0].set_title('val_loss')\n",
    "ax[1, 0].plot(history.history['val_loss'], 'r--')\n",
    "ax[1, 1].set_title('val__accuracy')\n",
    "ax[1, 1].plot(history.history['val_binary_accuracy'], 'b--')"
   ]
  },
  {
   "cell_type": "code",
   "execution_count": 1,
   "metadata": {},
   "outputs": [
    {
     "name": "stdout",
     "output_type": "stream",
     "text": [
      "Requirement already satisfied: IPython in c:\\users\\user\\anaconda3\\envs\\ganzer\\lib\\site-packages (7.19.0)\n",
      "Requirement already satisfied: traitlets>=4.2 in c:\\users\\user\\anaconda3\\envs\\ganzer\\lib\\site-packages (from IPython) (5.0.5)\n",
      "Requirement already satisfied: setuptools>=18.5 in c:\\users\\user\\anaconda3\\envs\\ganzer\\lib\\site-packages (from IPython) (50.3.1.post20201107)\n",
      "Requirement already satisfied: jedi>=0.10 in c:\\users\\user\\anaconda3\\envs\\ganzer\\lib\\site-packages (from IPython) (0.14.1)\n",
      "Requirement already satisfied: backcall in c:\\users\\user\\anaconda3\\envs\\ganzer\\lib\\site-packages (from IPython) (0.2.0)\n",
      "Requirement already satisfied: pickleshare in c:\\users\\user\\anaconda3\\envs\\ganzer\\lib\\site-packages (from IPython) (0.7.5)\n",
      "Requirement already satisfied: decorator in c:\\users\\user\\anaconda3\\envs\\ganzer\\lib\\site-packages (from IPython) (4.4.2)\n",
      "Requirement already satisfied: prompt-toolkit!=3.0.0,!=3.0.1,<3.1.0,>=2.0.0 in c:\\users\\user\\anaconda3\\envs\\ganzer\\lib\\site-packages (from IPython) (3.0.8)\n",
      "Requirement already satisfied: colorama; sys_platform == \"win32\" in c:\\users\\user\\anaconda3\\envs\\ganzer\\lib\\site-packages (from IPython) (0.4.4)\n",
      "Requirement already satisfied: pygments in c:\\users\\user\\anaconda3\\envs\\ganzer\\lib\\site-packages (from IPython) (2.7.2)\n",
      "Requirement already satisfied: ipython-genutils in c:\\users\\user\\anaconda3\\envs\\ganzer\\lib\\site-packages (from traitlets>=4.2->IPython) (0.2.0)\n",
      "Requirement already satisfied: parso>=0.5.0 in c:\\users\\user\\anaconda3\\envs\\ganzer\\lib\\site-packages (from jedi>=0.10->IPython) (0.5.2)\n",
      "Requirement already satisfied: wcwidth in c:\\users\\user\\anaconda3\\envs\\ganzer\\lib\\site-packages (from prompt-toolkit!=3.0.0,!=3.0.1,<3.1.0,>=2.0.0->IPython) (0.2.5)\n"
     ]
    }
   ],
   "source": [
    "!pip install IPython \n",
    "from IPython.display import Image  "
   ]
  },
  {
   "cell_type": "markdown",
   "metadata": {},
   "source": [
    "![title](C:/Users/User/Desktop/Figure_1.png) "
   ]
  },
  {
   "cell_type": "code",
   "execution_count": null,
   "metadata": {},
   "outputs": [],
   "source": []
  }
 ],
 "metadata": {
  "kernelspec": {
   "display_name": "Python 3",
   "language": "python",
   "name": "python3"
  },
  "language_info": {
   "codemirror_mode": {
    "name": "ipython",
    "version": 3
   },
   "file_extension": ".py",
   "mimetype": "text/x-python",
   "name": "python",
   "nbconvert_exporter": "python",
   "pygments_lexer": "ipython3",
   "version": "3.7.9"
  }
 },
 "nbformat": 4,
 "nbformat_minor": 4
}
